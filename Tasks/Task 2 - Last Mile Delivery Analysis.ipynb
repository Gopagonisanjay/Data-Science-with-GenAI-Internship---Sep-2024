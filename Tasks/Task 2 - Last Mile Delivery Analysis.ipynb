{
 "cells": [
  {
   "cell_type": "code",
   "execution_count": 1,
   "id": "30876517",
   "metadata": {},
   "outputs": [],
   "source": [
    "import pandas as pd"
   ]
  },
  {
   "cell_type": "code",
   "execution_count": 2,
   "id": "34080df2",
   "metadata": {},
   "outputs": [],
   "source": [
    "deliveries_df = pd.read_csv(r\"C:\\Users\\sanja\\Downloads\\diminos_data_v2\\diminos_data_v2\\deliveries.csv\")"
   ]
  },
  {
   "cell_type": "code",
   "execution_count": 3,
   "id": "e103e352",
   "metadata": {},
   "outputs": [
    {
     "data": {
      "text/html": [
       "<div>\n",
       "<style scoped>\n",
       "    .dataframe tbody tr th:only-of-type {\n",
       "        vertical-align: middle;\n",
       "    }\n",
       "\n",
       "    .dataframe tbody tr th {\n",
       "        vertical-align: top;\n",
       "    }\n",
       "\n",
       "    .dataframe thead th {\n",
       "        text-align: right;\n",
       "    }\n",
       "</style>\n",
       "<table border=\"1\" class=\"dataframe\">\n",
       "  <thead>\n",
       "    <tr style=\"text-align: right;\">\n",
       "      <th></th>\n",
       "      <th>order_id</th>\n",
       "      <th>time_stamp</th>\n",
       "      <th>status</th>\n",
       "    </tr>\n",
       "  </thead>\n",
       "  <tbody>\n",
       "    <tr>\n",
       "      <th>0</th>\n",
       "      <td>321230114</td>\n",
       "      <td>2020-12-11 00:01:29.000000000</td>\n",
       "      <td>Pending</td>\n",
       "    </tr>\n",
       "    <tr>\n",
       "      <th>1</th>\n",
       "      <td>321230114</td>\n",
       "      <td>2020-12-11 00:06:29.000000000</td>\n",
       "      <td>Out For Delivery</td>\n",
       "    </tr>\n",
       "    <tr>\n",
       "      <th>2</th>\n",
       "      <td>321230114</td>\n",
       "      <td>2020-12-11 00:19:13.299151076</td>\n",
       "      <td>Delivered</td>\n",
       "    </tr>\n",
       "    <tr>\n",
       "      <th>3</th>\n",
       "      <td>321230115</td>\n",
       "      <td>2020-12-11 00:36:02.000000000</td>\n",
       "      <td>Pending</td>\n",
       "    </tr>\n",
       "    <tr>\n",
       "      <th>4</th>\n",
       "      <td>321230115</td>\n",
       "      <td>2020-12-11 00:41:02.000000000</td>\n",
       "      <td>Out For Delivery</td>\n",
       "    </tr>\n",
       "  </tbody>\n",
       "</table>\n",
       "</div>"
      ],
      "text/plain": [
       "    order_id                     time_stamp            status\n",
       "0  321230114  2020-12-11 00:01:29.000000000           Pending\n",
       "1  321230114  2020-12-11 00:06:29.000000000  Out For Delivery\n",
       "2  321230114  2020-12-11 00:19:13.299151076         Delivered\n",
       "3  321230115  2020-12-11 00:36:02.000000000           Pending\n",
       "4  321230115  2020-12-11 00:41:02.000000000  Out For Delivery"
      ]
     },
     "execution_count": 3,
     "metadata": {},
     "output_type": "execute_result"
    }
   ],
   "source": [
    "deliveries_df.head()"
   ]
  },
  {
   "cell_type": "code",
   "execution_count": 4,
   "id": "f7d215d6",
   "metadata": {},
   "outputs": [
    {
     "data": {
      "text/html": [
       "<div>\n",
       "<style scoped>\n",
       "    .dataframe tbody tr th:only-of-type {\n",
       "        vertical-align: middle;\n",
       "    }\n",
       "\n",
       "    .dataframe tbody tr th {\n",
       "        vertical-align: top;\n",
       "    }\n",
       "\n",
       "    .dataframe thead th {\n",
       "        text-align: right;\n",
       "    }\n",
       "</style>\n",
       "<table border=\"1\" class=\"dataframe\">\n",
       "  <thead>\n",
       "    <tr style=\"text-align: right;\">\n",
       "      <th></th>\n",
       "      <th>order_id</th>\n",
       "      <th>items_ordered</th>\n",
       "    </tr>\n",
       "  </thead>\n",
       "  <tbody>\n",
       "    <tr>\n",
       "      <th>0</th>\n",
       "      <td>321230114</td>\n",
       "      <td>['p_025', 'p_032', 'p_037']</td>\n",
       "    </tr>\n",
       "    <tr>\n",
       "      <th>1</th>\n",
       "      <td>321230115</td>\n",
       "      <td>['p_017', 'p_012']</td>\n",
       "    </tr>\n",
       "    <tr>\n",
       "      <th>2</th>\n",
       "      <td>321230116</td>\n",
       "      <td>['p_027', 'p_037']</td>\n",
       "    </tr>\n",
       "    <tr>\n",
       "      <th>3</th>\n",
       "      <td>321230117</td>\n",
       "      <td>['p_004', 'p_029']</td>\n",
       "    </tr>\n",
       "    <tr>\n",
       "      <th>4</th>\n",
       "      <td>321230118</td>\n",
       "      <td>['p_017', 'p_037']</td>\n",
       "    </tr>\n",
       "  </tbody>\n",
       "</table>\n",
       "</div>"
      ],
      "text/plain": [
       "    order_id                items_ordered\n",
       "0  321230114  ['p_025', 'p_032', 'p_037']\n",
       "1  321230115           ['p_017', 'p_012']\n",
       "2  321230116           ['p_027', 'p_037']\n",
       "3  321230117           ['p_004', 'p_029']\n",
       "4  321230118           ['p_017', 'p_037']"
      ]
     },
     "execution_count": 4,
     "metadata": {},
     "output_type": "execute_result"
    }
   ],
   "source": [
    "order_items_df = pd.read_csv(r\"C:\\Users\\sanja\\Downloads\\diminos_data_v2\\diminos_data_v2\\order_items.csv\")\n",
    "order_items_df.head()"
   ]
  },
  {
   "cell_type": "code",
   "execution_count": 5,
   "id": "10e679c7",
   "metadata": {},
   "outputs": [
    {
     "data": {
      "text/html": [
       "<div>\n",
       "<style scoped>\n",
       "    .dataframe tbody tr th:only-of-type {\n",
       "        vertical-align: middle;\n",
       "    }\n",
       "\n",
       "    .dataframe tbody tr th {\n",
       "        vertical-align: top;\n",
       "    }\n",
       "\n",
       "    .dataframe thead th {\n",
       "        text-align: right;\n",
       "    }\n",
       "</style>\n",
       "<table border=\"1\" class=\"dataframe\">\n",
       "  <thead>\n",
       "    <tr style=\"text-align: right;\">\n",
       "      <th></th>\n",
       "      <th>order_id</th>\n",
       "      <th>order_placed_at</th>\n",
       "    </tr>\n",
       "  </thead>\n",
       "  <tbody>\n",
       "    <tr>\n",
       "      <th>0</th>\n",
       "      <td>321230114</td>\n",
       "      <td>2020-12-11 00:01:29</td>\n",
       "    </tr>\n",
       "    <tr>\n",
       "      <th>1</th>\n",
       "      <td>321230115</td>\n",
       "      <td>2020-12-11 00:36:02</td>\n",
       "    </tr>\n",
       "    <tr>\n",
       "      <th>2</th>\n",
       "      <td>321230116</td>\n",
       "      <td>2020-12-11 00:55:01</td>\n",
       "    </tr>\n",
       "    <tr>\n",
       "      <th>3</th>\n",
       "      <td>321230117</td>\n",
       "      <td>2020-12-11 01:05:27</td>\n",
       "    </tr>\n",
       "    <tr>\n",
       "      <th>4</th>\n",
       "      <td>321230118</td>\n",
       "      <td>2020-12-11 01:14:20</td>\n",
       "    </tr>\n",
       "  </tbody>\n",
       "</table>\n",
       "</div>"
      ],
      "text/plain": [
       "    order_id      order_placed_at\n",
       "0  321230114  2020-12-11 00:01:29\n",
       "1  321230115  2020-12-11 00:36:02\n",
       "2  321230116  2020-12-11 00:55:01\n",
       "3  321230117  2020-12-11 01:05:27\n",
       "4  321230118  2020-12-11 01:14:20"
      ]
     },
     "execution_count": 5,
     "metadata": {},
     "output_type": "execute_result"
    }
   ],
   "source": [
    "orders_df = pd.read_csv(r\"C:\\Users\\sanja\\Downloads\\diminos_data_v2\\diminos_data_v2\\orders.csv\")\n",
    "orders_df.head()"
   ]
  },
  {
   "cell_type": "code",
   "execution_count": 6,
   "id": "42a2642a",
   "metadata": {},
   "outputs": [
    {
     "data": {
      "text/html": [
       "<div>\n",
       "<style scoped>\n",
       "    .dataframe tbody tr th:only-of-type {\n",
       "        vertical-align: middle;\n",
       "    }\n",
       "\n",
       "    .dataframe tbody tr th {\n",
       "        vertical-align: top;\n",
       "    }\n",
       "\n",
       "    .dataframe thead th {\n",
       "        text-align: right;\n",
       "    }\n",
       "</style>\n",
       "<table border=\"1\" class=\"dataframe\">\n",
       "  <thead>\n",
       "    <tr style=\"text-align: right;\">\n",
       "      <th></th>\n",
       "      <th>item_id</th>\n",
       "      <th>category</th>\n",
       "      <th>Item</th>\n",
       "      <th>Size</th>\n",
       "      <th>Price</th>\n",
       "    </tr>\n",
       "  </thead>\n",
       "  <tbody>\n",
       "    <tr>\n",
       "      <th>0</th>\n",
       "      <td>p_001</td>\n",
       "      <td>Veg</td>\n",
       "      <td>Margherita</td>\n",
       "      <td>Regular</td>\n",
       "      <td>109</td>\n",
       "    </tr>\n",
       "    <tr>\n",
       "      <th>1</th>\n",
       "      <td>p_002</td>\n",
       "      <td>Veg</td>\n",
       "      <td>Margherita</td>\n",
       "      <td>Medium</td>\n",
       "      <td>245</td>\n",
       "    </tr>\n",
       "    <tr>\n",
       "      <th>2</th>\n",
       "      <td>p_003</td>\n",
       "      <td>Veg</td>\n",
       "      <td>Margherita</td>\n",
       "      <td>Large</td>\n",
       "      <td>455</td>\n",
       "    </tr>\n",
       "    <tr>\n",
       "      <th>3</th>\n",
       "      <td>p_004</td>\n",
       "      <td>Veg</td>\n",
       "      <td>Double Cheese Margherita</td>\n",
       "      <td>Regular</td>\n",
       "      <td>215</td>\n",
       "    </tr>\n",
       "    <tr>\n",
       "      <th>4</th>\n",
       "      <td>p_005</td>\n",
       "      <td>Veg</td>\n",
       "      <td>Double Cheese Margherita</td>\n",
       "      <td>Medium</td>\n",
       "      <td>385</td>\n",
       "    </tr>\n",
       "  </tbody>\n",
       "</table>\n",
       "</div>"
      ],
      "text/plain": [
       "  item_id category                      Item     Size  Price\n",
       "0   p_001      Veg                Margherita  Regular    109\n",
       "1   p_002      Veg                Margherita   Medium    245\n",
       "2   p_003      Veg                Margherita    Large    455\n",
       "3   p_004      Veg  Double Cheese Margherita  Regular    215\n",
       "4   p_005      Veg  Double Cheese Margherita   Medium    385"
      ]
     },
     "execution_count": 6,
     "metadata": {},
     "output_type": "execute_result"
    }
   ],
   "source": [
    "products_df = pd.read_csv(r\"C:\\Users\\sanja\\Downloads\\diminos_data_v2\\diminos_data_v2\\products.csv\")\n",
    "products_df.head()"
   ]
  },
  {
   "cell_type": "markdown",
   "id": "d07772c9",
   "metadata": {},
   "source": [
    "###### 1.What is the average Delivery Time (in minutes) taken by the store to deliver the Pizza?\n",
    "* Round off the answer upto 2 decimal places."
   ]
  },
  {
   "cell_type": "code",
   "execution_count": 7,
   "id": "c34bae51",
   "metadata": {},
   "outputs": [],
   "source": [
    "from datetime import datetime"
   ]
  },
  {
   "cell_type": "code",
   "execution_count": 8,
   "id": "380eaca4",
   "metadata": {},
   "outputs": [],
   "source": [
    "merged_df1 = pd.merge(deliveries_df,orders_df)"
   ]
  },
  {
   "cell_type": "code",
   "execution_count": 9,
   "id": "ac5595d3",
   "metadata": {},
   "outputs": [
    {
     "name": "stdout",
     "output_type": "stream",
     "text": [
      "<class 'pandas.core.frame.DataFrame'>\n",
      "RangeIndex: 1363008 entries, 0 to 1363007\n",
      "Data columns (total 4 columns):\n",
      " #   Column           Non-Null Count    Dtype \n",
      "---  ------           --------------    ----- \n",
      " 0   order_id         1363008 non-null  int64 \n",
      " 1   time_stamp       1363008 non-null  object\n",
      " 2   status           1363008 non-null  object\n",
      " 3   order_placed_at  1363008 non-null  object\n",
      "dtypes: int64(1), object(3)\n",
      "memory usage: 41.6+ MB\n"
     ]
    }
   ],
   "source": [
    "merged_df1.info()"
   ]
  },
  {
   "cell_type": "code",
   "execution_count": 10,
   "id": "63689b22",
   "metadata": {},
   "outputs": [],
   "source": [
    "merged_df1['time_stamp'] = pd.to_datetime(merged_df1['time_stamp'])"
   ]
  },
  {
   "cell_type": "code",
   "execution_count": 11,
   "id": "60c25521",
   "metadata": {},
   "outputs": [],
   "source": [
    "merged_df1['order_placed_at'] = pd.to_datetime(merged_df1['order_placed_at'])"
   ]
  },
  {
   "cell_type": "code",
   "execution_count": 12,
   "id": "3be4e000",
   "metadata": {},
   "outputs": [
    {
     "name": "stdout",
     "output_type": "stream",
     "text": [
      "<class 'pandas.core.frame.DataFrame'>\n",
      "RangeIndex: 1363008 entries, 0 to 1363007\n",
      "Data columns (total 4 columns):\n",
      " #   Column           Non-Null Count    Dtype         \n",
      "---  ------           --------------    -----         \n",
      " 0   order_id         1363008 non-null  int64         \n",
      " 1   time_stamp       1363008 non-null  datetime64[ns]\n",
      " 2   status           1363008 non-null  object        \n",
      " 3   order_placed_at  1363008 non-null  datetime64[ns]\n",
      "dtypes: datetime64[ns](2), int64(1), object(1)\n",
      "memory usage: 41.6+ MB\n"
     ]
    }
   ],
   "source": [
    "merged_df1.info()"
   ]
  },
  {
   "cell_type": "code",
   "execution_count": 13,
   "id": "608cf72a",
   "metadata": {},
   "outputs": [],
   "source": [
    "merged_df1['Duration'] = (merged_df1['time_stamp'] - merged_df1['order_placed_at']).dt.total_seconds()/60"
   ]
  },
  {
   "cell_type": "code",
   "execution_count": 14,
   "id": "0cd68d51",
   "metadata": {},
   "outputs": [
    {
     "data": {
      "text/plain": [
       "8.55"
      ]
     },
     "execution_count": 14,
     "metadata": {},
     "output_type": "execute_result"
    }
   ],
   "source": [
    "round(merged_df1['Duration'].mean(),2)"
   ]
  },
  {
   "cell_type": "markdown",
   "id": "f9e99eaa",
   "metadata": {},
   "source": [
    "###### 2. What is the 99th percentile Delivery Time (in minutes) taken by the store to deliver the Pizza?"
   ]
  },
  {
   "cell_type": "code",
   "execution_count": 15,
   "id": "5229bb97",
   "metadata": {},
   "outputs": [
    {
     "data": {
      "text/plain": [
       "27.75"
      ]
     },
     "execution_count": 15,
     "metadata": {},
     "output_type": "execute_result"
    }
   ],
   "source": [
    "round(merged_df1['Duration'].quantile(0.99),2)"
   ]
  },
  {
   "cell_type": "markdown",
   "id": "82e642dc",
   "metadata": {},
   "source": [
    "###### 3. Which metric is the better choice to determine the stores performance based on Delivery Time?"
   ]
  },
  {
   "cell_type": "markdown",
   "id": "6ab32254",
   "metadata": {},
   "source": [
    "###### median"
   ]
  },
  {
   "cell_type": "code",
   "execution_count": 16,
   "id": "6bac8f59",
   "metadata": {},
   "outputs": [
    {
     "data": {
      "text/plain": [
       "5.0"
      ]
     },
     "execution_count": 16,
     "metadata": {},
     "output_type": "execute_result"
    }
   ],
   "source": [
    "round(merged_df1['Duration'].median(),2)"
   ]
  },
  {
   "cell_type": "markdown",
   "id": "2c3961e1",
   "metadata": {},
   "source": [
    "###### 95% "
   ]
  },
  {
   "cell_type": "code",
   "execution_count": 17,
   "id": "ff3efae1",
   "metadata": {},
   "outputs": [
    {
     "data": {
      "text/plain": [
       "23.37"
      ]
     },
     "execution_count": 17,
     "metadata": {},
     "output_type": "execute_result"
    }
   ],
   "source": [
    "round(merged_df1['Duration'].quantile(0.95),2)"
   ]
  },
  {
   "cell_type": "markdown",
   "id": "960982d8",
   "metadata": {},
   "source": [
    "###### 99%"
   ]
  },
  {
   "cell_type": "code",
   "execution_count": 18,
   "id": "66782bfe",
   "metadata": {},
   "outputs": [
    {
     "data": {
      "text/plain": [
       "27.75"
      ]
     },
     "execution_count": 18,
     "metadata": {},
     "output_type": "execute_result"
    }
   ],
   "source": [
    "round(merged_df1['Duration'].quantile(0.99),2)"
   ]
  },
  {
   "cell_type": "code",
   "execution_count": 19,
   "id": "01763b58",
   "metadata": {},
   "outputs": [
    {
     "data": {
      "text/plain": [
       "8.96"
      ]
     },
     "execution_count": 19,
     "metadata": {},
     "output_type": "execute_result"
    }
   ],
   "source": [
    "round(merged_df1['Duration'].std(),2)"
   ]
  },
  {
   "cell_type": "markdown",
   "id": "6f672c2e",
   "metadata": {},
   "source": [
    "median, 95% and 99% better choice to determine the stores performance based on Delivery Time"
   ]
  },
  {
   "cell_type": "markdown",
   "id": "146652ba",
   "metadata": {},
   "source": [
    "###### 4.What is the order id with the maximum delivery time?"
   ]
  },
  {
   "cell_type": "code",
   "execution_count": 20,
   "id": "606d5e80",
   "metadata": {},
   "outputs": [
    {
     "data": {
      "text/plain": [
       "62.912078128716665"
      ]
     },
     "execution_count": 20,
     "metadata": {},
     "output_type": "execute_result"
    }
   ],
   "source": [
    "merged_df1['Duration'].max()"
   ]
  },
  {
   "cell_type": "code",
   "execution_count": 21,
   "id": "467588f7",
   "metadata": {},
   "outputs": [
    {
     "data": {
      "text/plain": [
       "321629049"
      ]
     },
     "execution_count": 21,
     "metadata": {},
     "output_type": "execute_result"
    }
   ],
   "source": [
    "merged_df1[merged_df1['Duration'] == 62.912078128716665]['order_id'].values[0]"
   ]
  },
  {
   "cell_type": "markdown",
   "id": "5665c10d",
   "metadata": {},
   "source": [
    "###### 5. How many pizza's were ordered between 1st January and 31st January 2024 (INCLUSIVE)?"
   ]
  },
  {
   "cell_type": "code",
   "execution_count": 22,
   "id": "3406f63e",
   "metadata": {},
   "outputs": [
    {
     "data": {
      "text/html": [
       "<div>\n",
       "<style scoped>\n",
       "    .dataframe tbody tr th:only-of-type {\n",
       "        vertical-align: middle;\n",
       "    }\n",
       "\n",
       "    .dataframe tbody tr th {\n",
       "        vertical-align: top;\n",
       "    }\n",
       "\n",
       "    .dataframe thead th {\n",
       "        text-align: right;\n",
       "    }\n",
       "</style>\n",
       "<table border=\"1\" class=\"dataframe\">\n",
       "  <thead>\n",
       "    <tr style=\"text-align: right;\">\n",
       "      <th></th>\n",
       "      <th>order_id</th>\n",
       "      <th>time_stamp</th>\n",
       "      <th>status</th>\n",
       "      <th>order_placed_at</th>\n",
       "      <th>Duration</th>\n",
       "    </tr>\n",
       "  </thead>\n",
       "  <tbody>\n",
       "    <tr>\n",
       "      <th>0</th>\n",
       "      <td>321230114</td>\n",
       "      <td>2020-12-11 00:01:29.000000000</td>\n",
       "      <td>Pending</td>\n",
       "      <td>2020-12-11 00:01:29</td>\n",
       "      <td>0.000000</td>\n",
       "    </tr>\n",
       "    <tr>\n",
       "      <th>1</th>\n",
       "      <td>321230114</td>\n",
       "      <td>2020-12-11 00:06:29.000000000</td>\n",
       "      <td>Out For Delivery</td>\n",
       "      <td>2020-12-11 00:01:29</td>\n",
       "      <td>5.000000</td>\n",
       "    </tr>\n",
       "    <tr>\n",
       "      <th>2</th>\n",
       "      <td>321230114</td>\n",
       "      <td>2020-12-11 00:19:13.299151076</td>\n",
       "      <td>Delivered</td>\n",
       "      <td>2020-12-11 00:01:29</td>\n",
       "      <td>17.738319</td>\n",
       "    </tr>\n",
       "    <tr>\n",
       "      <th>3</th>\n",
       "      <td>321230115</td>\n",
       "      <td>2020-12-11 00:36:02.000000000</td>\n",
       "      <td>Pending</td>\n",
       "      <td>2020-12-11 00:36:02</td>\n",
       "      <td>0.000000</td>\n",
       "    </tr>\n",
       "    <tr>\n",
       "      <th>4</th>\n",
       "      <td>321230115</td>\n",
       "      <td>2020-12-11 00:41:02.000000000</td>\n",
       "      <td>Out For Delivery</td>\n",
       "      <td>2020-12-11 00:36:02</td>\n",
       "      <td>5.000000</td>\n",
       "    </tr>\n",
       "  </tbody>\n",
       "</table>\n",
       "</div>"
      ],
      "text/plain": [
       "    order_id                    time_stamp            status  \\\n",
       "0  321230114 2020-12-11 00:01:29.000000000           Pending   \n",
       "1  321230114 2020-12-11 00:06:29.000000000  Out For Delivery   \n",
       "2  321230114 2020-12-11 00:19:13.299151076         Delivered   \n",
       "3  321230115 2020-12-11 00:36:02.000000000           Pending   \n",
       "4  321230115 2020-12-11 00:41:02.000000000  Out For Delivery   \n",
       "\n",
       "      order_placed_at   Duration  \n",
       "0 2020-12-11 00:01:29   0.000000  \n",
       "1 2020-12-11 00:01:29   5.000000  \n",
       "2 2020-12-11 00:01:29  17.738319  \n",
       "3 2020-12-11 00:36:02   0.000000  \n",
       "4 2020-12-11 00:36:02   5.000000  "
      ]
     },
     "execution_count": 22,
     "metadata": {},
     "output_type": "execute_result"
    }
   ],
   "source": [
    "merged_df1.head()"
   ]
  },
  {
   "cell_type": "code",
   "execution_count": 23,
   "id": "ab5d10ae",
   "metadata": {},
   "outputs": [],
   "source": [
    "sep_jan = merged_df1[merged_df1['order_placed_at'].dt.month_name() == 'January']"
   ]
  },
  {
   "cell_type": "code",
   "execution_count": 24,
   "id": "b21fa616",
   "metadata": {},
   "outputs": [],
   "source": [
    "jan_data = sep_jan[sep_jan['order_placed_at'].dt.year == 2024]"
   ]
  },
  {
   "cell_type": "code",
   "execution_count": 25,
   "id": "2fa77281",
   "metadata": {},
   "outputs": [
    {
     "data": {
      "text/plain": [
       "36912"
      ]
     },
     "execution_count": 25,
     "metadata": {},
     "output_type": "execute_result"
    }
   ],
   "source": [
    "len(jan_data)"
   ]
  },
  {
   "cell_type": "markdown",
   "id": "03f7ba8e",
   "metadata": {},
   "source": [
    "###### 6. How many order took more than 30 minutes to deliver between 1st January and 31st January 2024 (INCLUSIVE)?\n",
    "\n",
    "This is important as Diminos promise 30 minutes delivery. For any pizza delivered after 30 minutes, customer will get a full refund."
   ]
  },
  {
   "cell_type": "code",
   "execution_count": 26,
   "id": "66f6422c",
   "metadata": {},
   "outputs": [],
   "source": [
    "more_than_30_min = jan_data[jan_data['Duration'] > 30]"
   ]
  },
  {
   "cell_type": "code",
   "execution_count": 27,
   "id": "ae1f3a67",
   "metadata": {},
   "outputs": [
    {
     "data": {
      "text/plain": [
       "Index(['order_id', 'time_stamp', 'status', 'order_placed_at', 'Duration'], dtype='object')"
      ]
     },
     "execution_count": 27,
     "metadata": {},
     "output_type": "execute_result"
    }
   ],
   "source": [
    "jan_data.columns"
   ]
  },
  {
   "cell_type": "code",
   "execution_count": 28,
   "id": "871c2a41",
   "metadata": {},
   "outputs": [
    {
     "data": {
      "text/plain": [
       "162"
      ]
     },
     "execution_count": 28,
     "metadata": {},
     "output_type": "execute_result"
    }
   ],
   "source": [
    "len(more_than_30_min)"
   ]
  },
  {
   "cell_type": "markdown",
   "id": "d0325805",
   "metadata": {},
   "source": [
    "###### 7. What is the total amount Pizza store lost in 2023 due to refunds on late deliveries?"
   ]
  },
  {
   "cell_type": "code",
   "execution_count": 29,
   "id": "33444228",
   "metadata": {},
   "outputs": [
    {
     "data": {
      "text/html": [
       "<div>\n",
       "<style scoped>\n",
       "    .dataframe tbody tr th:only-of-type {\n",
       "        vertical-align: middle;\n",
       "    }\n",
       "\n",
       "    .dataframe tbody tr th {\n",
       "        vertical-align: top;\n",
       "    }\n",
       "\n",
       "    .dataframe thead th {\n",
       "        text-align: right;\n",
       "    }\n",
       "</style>\n",
       "<table border=\"1\" class=\"dataframe\">\n",
       "  <thead>\n",
       "    <tr style=\"text-align: right;\">\n",
       "      <th></th>\n",
       "      <th>order_id</th>\n",
       "      <th>time_stamp</th>\n",
       "      <th>status</th>\n",
       "      <th>order_placed_at</th>\n",
       "      <th>Duration</th>\n",
       "    </tr>\n",
       "  </thead>\n",
       "  <tbody>\n",
       "    <tr>\n",
       "      <th>0</th>\n",
       "      <td>321230114</td>\n",
       "      <td>2020-12-11 00:01:29.000000000</td>\n",
       "      <td>Pending</td>\n",
       "      <td>2020-12-11 00:01:29</td>\n",
       "      <td>0.000000</td>\n",
       "    </tr>\n",
       "    <tr>\n",
       "      <th>1</th>\n",
       "      <td>321230114</td>\n",
       "      <td>2020-12-11 00:06:29.000000000</td>\n",
       "      <td>Out For Delivery</td>\n",
       "      <td>2020-12-11 00:01:29</td>\n",
       "      <td>5.000000</td>\n",
       "    </tr>\n",
       "    <tr>\n",
       "      <th>2</th>\n",
       "      <td>321230114</td>\n",
       "      <td>2020-12-11 00:19:13.299151076</td>\n",
       "      <td>Delivered</td>\n",
       "      <td>2020-12-11 00:01:29</td>\n",
       "      <td>17.738319</td>\n",
       "    </tr>\n",
       "    <tr>\n",
       "      <th>3</th>\n",
       "      <td>321230115</td>\n",
       "      <td>2020-12-11 00:36:02.000000000</td>\n",
       "      <td>Pending</td>\n",
       "      <td>2020-12-11 00:36:02</td>\n",
       "      <td>0.000000</td>\n",
       "    </tr>\n",
       "    <tr>\n",
       "      <th>4</th>\n",
       "      <td>321230115</td>\n",
       "      <td>2020-12-11 00:41:02.000000000</td>\n",
       "      <td>Out For Delivery</td>\n",
       "      <td>2020-12-11 00:36:02</td>\n",
       "      <td>5.000000</td>\n",
       "    </tr>\n",
       "    <tr>\n",
       "      <th>...</th>\n",
       "      <td>...</td>\n",
       "      <td>...</td>\n",
       "      <td>...</td>\n",
       "      <td>...</td>\n",
       "      <td>...</td>\n",
       "    </tr>\n",
       "    <tr>\n",
       "      <th>1363003</th>\n",
       "      <td>321684449</td>\n",
       "      <td>2024-02-01 00:00:46.000000000</td>\n",
       "      <td>Out For Delivery</td>\n",
       "      <td>2024-01-31 23:55:46</td>\n",
       "      <td>5.000000</td>\n",
       "    </tr>\n",
       "    <tr>\n",
       "      <th>1363004</th>\n",
       "      <td>321684449</td>\n",
       "      <td>2024-02-01 00:14:56.997433391</td>\n",
       "      <td>Delivered</td>\n",
       "      <td>2024-01-31 23:55:46</td>\n",
       "      <td>19.183291</td>\n",
       "    </tr>\n",
       "    <tr>\n",
       "      <th>1363005</th>\n",
       "      <td>321684448</td>\n",
       "      <td>2024-01-31 23:58:05.000000000</td>\n",
       "      <td>Pending</td>\n",
       "      <td>2024-01-31 23:58:05</td>\n",
       "      <td>0.000000</td>\n",
       "    </tr>\n",
       "    <tr>\n",
       "      <th>1363006</th>\n",
       "      <td>321684448</td>\n",
       "      <td>2024-02-01 00:03:05.000000000</td>\n",
       "      <td>Out For Delivery</td>\n",
       "      <td>2024-01-31 23:58:05</td>\n",
       "      <td>5.000000</td>\n",
       "    </tr>\n",
       "    <tr>\n",
       "      <th>1363007</th>\n",
       "      <td>321684448</td>\n",
       "      <td>2024-02-01 00:17:50.996900711</td>\n",
       "      <td>Delivered</td>\n",
       "      <td>2024-01-31 23:58:05</td>\n",
       "      <td>19.766615</td>\n",
       "    </tr>\n",
       "  </tbody>\n",
       "</table>\n",
       "<p>1363008 rows × 5 columns</p>\n",
       "</div>"
      ],
      "text/plain": [
       "          order_id                    time_stamp            status  \\\n",
       "0        321230114 2020-12-11 00:01:29.000000000           Pending   \n",
       "1        321230114 2020-12-11 00:06:29.000000000  Out For Delivery   \n",
       "2        321230114 2020-12-11 00:19:13.299151076         Delivered   \n",
       "3        321230115 2020-12-11 00:36:02.000000000           Pending   \n",
       "4        321230115 2020-12-11 00:41:02.000000000  Out For Delivery   \n",
       "...            ...                           ...               ...   \n",
       "1363003  321684449 2024-02-01 00:00:46.000000000  Out For Delivery   \n",
       "1363004  321684449 2024-02-01 00:14:56.997433391         Delivered   \n",
       "1363005  321684448 2024-01-31 23:58:05.000000000           Pending   \n",
       "1363006  321684448 2024-02-01 00:03:05.000000000  Out For Delivery   \n",
       "1363007  321684448 2024-02-01 00:17:50.996900711         Delivered   \n",
       "\n",
       "            order_placed_at   Duration  \n",
       "0       2020-12-11 00:01:29   0.000000  \n",
       "1       2020-12-11 00:01:29   5.000000  \n",
       "2       2020-12-11 00:01:29  17.738319  \n",
       "3       2020-12-11 00:36:02   0.000000  \n",
       "4       2020-12-11 00:36:02   5.000000  \n",
       "...                     ...        ...  \n",
       "1363003 2024-01-31 23:55:46   5.000000  \n",
       "1363004 2024-01-31 23:55:46  19.183291  \n",
       "1363005 2024-01-31 23:58:05   0.000000  \n",
       "1363006 2024-01-31 23:58:05   5.000000  \n",
       "1363007 2024-01-31 23:58:05  19.766615  \n",
       "\n",
       "[1363008 rows x 5 columns]"
      ]
     },
     "execution_count": 29,
     "metadata": {},
     "output_type": "execute_result"
    }
   ],
   "source": [
    "merged_df1"
   ]
  },
  {
   "cell_type": "code",
   "execution_count": 30,
   "id": "77589c3b",
   "metadata": {},
   "outputs": [],
   "source": [
    "df_total = pd.merge(merged_df1,order_items_df,on = 'order_id')"
   ]
  },
  {
   "cell_type": "code",
   "execution_count": 31,
   "id": "63dda5b3",
   "metadata": {},
   "outputs": [
    {
     "data": {
      "text/html": [
       "<div>\n",
       "<style scoped>\n",
       "    .dataframe tbody tr th:only-of-type {\n",
       "        vertical-align: middle;\n",
       "    }\n",
       "\n",
       "    .dataframe tbody tr th {\n",
       "        vertical-align: top;\n",
       "    }\n",
       "\n",
       "    .dataframe thead th {\n",
       "        text-align: right;\n",
       "    }\n",
       "</style>\n",
       "<table border=\"1\" class=\"dataframe\">\n",
       "  <thead>\n",
       "    <tr style=\"text-align: right;\">\n",
       "      <th></th>\n",
       "      <th>order_id</th>\n",
       "      <th>time_stamp</th>\n",
       "      <th>status</th>\n",
       "      <th>order_placed_at</th>\n",
       "      <th>Duration</th>\n",
       "      <th>items_ordered</th>\n",
       "    </tr>\n",
       "  </thead>\n",
       "  <tbody>\n",
       "    <tr>\n",
       "      <th>0</th>\n",
       "      <td>321230114</td>\n",
       "      <td>2020-12-11 00:01:29.000000000</td>\n",
       "      <td>Pending</td>\n",
       "      <td>2020-12-11 00:01:29</td>\n",
       "      <td>0.000000</td>\n",
       "      <td>['p_025', 'p_032', 'p_037']</td>\n",
       "    </tr>\n",
       "    <tr>\n",
       "      <th>1</th>\n",
       "      <td>321230114</td>\n",
       "      <td>2020-12-11 00:06:29.000000000</td>\n",
       "      <td>Out For Delivery</td>\n",
       "      <td>2020-12-11 00:01:29</td>\n",
       "      <td>5.000000</td>\n",
       "      <td>['p_025', 'p_032', 'p_037']</td>\n",
       "    </tr>\n",
       "    <tr>\n",
       "      <th>2</th>\n",
       "      <td>321230114</td>\n",
       "      <td>2020-12-11 00:19:13.299151076</td>\n",
       "      <td>Delivered</td>\n",
       "      <td>2020-12-11 00:01:29</td>\n",
       "      <td>17.738319</td>\n",
       "      <td>['p_025', 'p_032', 'p_037']</td>\n",
       "    </tr>\n",
       "    <tr>\n",
       "      <th>3</th>\n",
       "      <td>321230115</td>\n",
       "      <td>2020-12-11 00:36:02.000000000</td>\n",
       "      <td>Pending</td>\n",
       "      <td>2020-12-11 00:36:02</td>\n",
       "      <td>0.000000</td>\n",
       "      <td>['p_017', 'p_012']</td>\n",
       "    </tr>\n",
       "    <tr>\n",
       "      <th>4</th>\n",
       "      <td>321230115</td>\n",
       "      <td>2020-12-11 00:41:02.000000000</td>\n",
       "      <td>Out For Delivery</td>\n",
       "      <td>2020-12-11 00:36:02</td>\n",
       "      <td>5.000000</td>\n",
       "      <td>['p_017', 'p_012']</td>\n",
       "    </tr>\n",
       "    <tr>\n",
       "      <th>...</th>\n",
       "      <td>...</td>\n",
       "      <td>...</td>\n",
       "      <td>...</td>\n",
       "      <td>...</td>\n",
       "      <td>...</td>\n",
       "      <td>...</td>\n",
       "    </tr>\n",
       "    <tr>\n",
       "      <th>1363003</th>\n",
       "      <td>321684449</td>\n",
       "      <td>2024-02-01 00:00:46.000000000</td>\n",
       "      <td>Out For Delivery</td>\n",
       "      <td>2024-01-31 23:55:46</td>\n",
       "      <td>5.000000</td>\n",
       "      <td>['p_022', 'p_037']</td>\n",
       "    </tr>\n",
       "    <tr>\n",
       "      <th>1363004</th>\n",
       "      <td>321684449</td>\n",
       "      <td>2024-02-01 00:14:56.997433391</td>\n",
       "      <td>Delivered</td>\n",
       "      <td>2024-01-31 23:55:46</td>\n",
       "      <td>19.183291</td>\n",
       "      <td>['p_022', 'p_037']</td>\n",
       "    </tr>\n",
       "    <tr>\n",
       "      <th>1363005</th>\n",
       "      <td>321684448</td>\n",
       "      <td>2024-01-31 23:58:05.000000000</td>\n",
       "      <td>Pending</td>\n",
       "      <td>2024-01-31 23:58:05</td>\n",
       "      <td>0.000000</td>\n",
       "      <td>['p_007', 'p_003', 'p_037']</td>\n",
       "    </tr>\n",
       "    <tr>\n",
       "      <th>1363006</th>\n",
       "      <td>321684448</td>\n",
       "      <td>2024-02-01 00:03:05.000000000</td>\n",
       "      <td>Out For Delivery</td>\n",
       "      <td>2024-01-31 23:58:05</td>\n",
       "      <td>5.000000</td>\n",
       "      <td>['p_007', 'p_003', 'p_037']</td>\n",
       "    </tr>\n",
       "    <tr>\n",
       "      <th>1363007</th>\n",
       "      <td>321684448</td>\n",
       "      <td>2024-02-01 00:17:50.996900711</td>\n",
       "      <td>Delivered</td>\n",
       "      <td>2024-01-31 23:58:05</td>\n",
       "      <td>19.766615</td>\n",
       "      <td>['p_007', 'p_003', 'p_037']</td>\n",
       "    </tr>\n",
       "  </tbody>\n",
       "</table>\n",
       "<p>1363008 rows × 6 columns</p>\n",
       "</div>"
      ],
      "text/plain": [
       "          order_id                    time_stamp            status  \\\n",
       "0        321230114 2020-12-11 00:01:29.000000000           Pending   \n",
       "1        321230114 2020-12-11 00:06:29.000000000  Out For Delivery   \n",
       "2        321230114 2020-12-11 00:19:13.299151076         Delivered   \n",
       "3        321230115 2020-12-11 00:36:02.000000000           Pending   \n",
       "4        321230115 2020-12-11 00:41:02.000000000  Out For Delivery   \n",
       "...            ...                           ...               ...   \n",
       "1363003  321684449 2024-02-01 00:00:46.000000000  Out For Delivery   \n",
       "1363004  321684449 2024-02-01 00:14:56.997433391         Delivered   \n",
       "1363005  321684448 2024-01-31 23:58:05.000000000           Pending   \n",
       "1363006  321684448 2024-02-01 00:03:05.000000000  Out For Delivery   \n",
       "1363007  321684448 2024-02-01 00:17:50.996900711         Delivered   \n",
       "\n",
       "            order_placed_at   Duration                items_ordered  \n",
       "0       2020-12-11 00:01:29   0.000000  ['p_025', 'p_032', 'p_037']  \n",
       "1       2020-12-11 00:01:29   5.000000  ['p_025', 'p_032', 'p_037']  \n",
       "2       2020-12-11 00:01:29  17.738319  ['p_025', 'p_032', 'p_037']  \n",
       "3       2020-12-11 00:36:02   0.000000           ['p_017', 'p_012']  \n",
       "4       2020-12-11 00:36:02   5.000000           ['p_017', 'p_012']  \n",
       "...                     ...        ...                          ...  \n",
       "1363003 2024-01-31 23:55:46   5.000000           ['p_022', 'p_037']  \n",
       "1363004 2024-01-31 23:55:46  19.183291           ['p_022', 'p_037']  \n",
       "1363005 2024-01-31 23:58:05   0.000000  ['p_007', 'p_003', 'p_037']  \n",
       "1363006 2024-01-31 23:58:05   5.000000  ['p_007', 'p_003', 'p_037']  \n",
       "1363007 2024-01-31 23:58:05  19.766615  ['p_007', 'p_003', 'p_037']  \n",
       "\n",
       "[1363008 rows x 6 columns]"
      ]
     },
     "execution_count": 31,
     "metadata": {},
     "output_type": "execute_result"
    }
   ],
   "source": [
    "df_total"
   ]
  },
  {
   "cell_type": "code",
   "execution_count": 32,
   "id": "8d584159",
   "metadata": {},
   "outputs": [
    {
     "name": "stdout",
     "output_type": "stream",
     "text": [
      "<class 'pandas.core.frame.DataFrame'>\n",
      "RangeIndex: 1363008 entries, 0 to 1363007\n",
      "Data columns (total 6 columns):\n",
      " #   Column           Non-Null Count    Dtype         \n",
      "---  ------           --------------    -----         \n",
      " 0   order_id         1363008 non-null  int64         \n",
      " 1   time_stamp       1363008 non-null  datetime64[ns]\n",
      " 2   status           1363008 non-null  object        \n",
      " 3   order_placed_at  1363008 non-null  datetime64[ns]\n",
      " 4   Duration         1363008 non-null  float64       \n",
      " 5   items_ordered    1363008 non-null  object        \n",
      "dtypes: datetime64[ns](2), float64(1), int64(1), object(2)\n",
      "memory usage: 62.4+ MB\n"
     ]
    }
   ],
   "source": [
    "df_total.info()"
   ]
  },
  {
   "cell_type": "code",
   "execution_count": 33,
   "id": "c218685c",
   "metadata": {},
   "outputs": [
    {
     "data": {
      "text/html": [
       "<div>\n",
       "<style scoped>\n",
       "    .dataframe tbody tr th:only-of-type {\n",
       "        vertical-align: middle;\n",
       "    }\n",
       "\n",
       "    .dataframe tbody tr th {\n",
       "        vertical-align: top;\n",
       "    }\n",
       "\n",
       "    .dataframe thead th {\n",
       "        text-align: right;\n",
       "    }\n",
       "</style>\n",
       "<table border=\"1\" class=\"dataframe\">\n",
       "  <thead>\n",
       "    <tr style=\"text-align: right;\">\n",
       "      <th></th>\n",
       "      <th>item_id</th>\n",
       "      <th>category</th>\n",
       "      <th>Item</th>\n",
       "      <th>Size</th>\n",
       "      <th>Price</th>\n",
       "    </tr>\n",
       "  </thead>\n",
       "  <tbody>\n",
       "    <tr>\n",
       "      <th>0</th>\n",
       "      <td>p_001</td>\n",
       "      <td>Veg</td>\n",
       "      <td>Margherita</td>\n",
       "      <td>Regular</td>\n",
       "      <td>109</td>\n",
       "    </tr>\n",
       "    <tr>\n",
       "      <th>1</th>\n",
       "      <td>p_002</td>\n",
       "      <td>Veg</td>\n",
       "      <td>Margherita</td>\n",
       "      <td>Medium</td>\n",
       "      <td>245</td>\n",
       "    </tr>\n",
       "    <tr>\n",
       "      <th>2</th>\n",
       "      <td>p_003</td>\n",
       "      <td>Veg</td>\n",
       "      <td>Margherita</td>\n",
       "      <td>Large</td>\n",
       "      <td>455</td>\n",
       "    </tr>\n",
       "    <tr>\n",
       "      <th>3</th>\n",
       "      <td>p_004</td>\n",
       "      <td>Veg</td>\n",
       "      <td>Double Cheese Margherita</td>\n",
       "      <td>Regular</td>\n",
       "      <td>215</td>\n",
       "    </tr>\n",
       "    <tr>\n",
       "      <th>4</th>\n",
       "      <td>p_005</td>\n",
       "      <td>Veg</td>\n",
       "      <td>Double Cheese Margherita</td>\n",
       "      <td>Medium</td>\n",
       "      <td>385</td>\n",
       "    </tr>\n",
       "  </tbody>\n",
       "</table>\n",
       "</div>"
      ],
      "text/plain": [
       "  item_id category                      Item     Size  Price\n",
       "0   p_001      Veg                Margherita  Regular    109\n",
       "1   p_002      Veg                Margherita   Medium    245\n",
       "2   p_003      Veg                Margherita    Large    455\n",
       "3   p_004      Veg  Double Cheese Margherita  Regular    215\n",
       "4   p_005      Veg  Double Cheese Margherita   Medium    385"
      ]
     },
     "execution_count": 33,
     "metadata": {},
     "output_type": "execute_result"
    }
   ],
   "source": [
    "products_df.head()"
   ]
  },
  {
   "cell_type": "code",
   "execution_count": 34,
   "id": "24883f4c",
   "metadata": {},
   "outputs": [],
   "source": [
    "pro_df = products_df[['item_id','Price']]"
   ]
  },
  {
   "cell_type": "code",
   "execution_count": 35,
   "id": "048410d1",
   "metadata": {},
   "outputs": [
    {
     "data": {
      "text/html": [
       "<div>\n",
       "<style scoped>\n",
       "    .dataframe tbody tr th:only-of-type {\n",
       "        vertical-align: middle;\n",
       "    }\n",
       "\n",
       "    .dataframe tbody tr th {\n",
       "        vertical-align: top;\n",
       "    }\n",
       "\n",
       "    .dataframe thead th {\n",
       "        text-align: right;\n",
       "    }\n",
       "</style>\n",
       "<table border=\"1\" class=\"dataframe\">\n",
       "  <thead>\n",
       "    <tr style=\"text-align: right;\">\n",
       "      <th></th>\n",
       "      <th>item_id</th>\n",
       "      <th>Price</th>\n",
       "    </tr>\n",
       "  </thead>\n",
       "  <tbody>\n",
       "    <tr>\n",
       "      <th>0</th>\n",
       "      <td>p_001</td>\n",
       "      <td>109</td>\n",
       "    </tr>\n",
       "    <tr>\n",
       "      <th>1</th>\n",
       "      <td>p_002</td>\n",
       "      <td>245</td>\n",
       "    </tr>\n",
       "    <tr>\n",
       "      <th>2</th>\n",
       "      <td>p_003</td>\n",
       "      <td>455</td>\n",
       "    </tr>\n",
       "    <tr>\n",
       "      <th>3</th>\n",
       "      <td>p_004</td>\n",
       "      <td>215</td>\n",
       "    </tr>\n",
       "    <tr>\n",
       "      <th>4</th>\n",
       "      <td>p_005</td>\n",
       "      <td>385</td>\n",
       "    </tr>\n",
       "    <tr>\n",
       "      <th>5</th>\n",
       "      <td>p_006</td>\n",
       "      <td>619</td>\n",
       "    </tr>\n",
       "    <tr>\n",
       "      <th>6</th>\n",
       "      <td>p_007</td>\n",
       "      <td>265</td>\n",
       "    </tr>\n",
       "    <tr>\n",
       "      <th>7</th>\n",
       "      <td>p_008</td>\n",
       "      <td>469</td>\n",
       "    </tr>\n",
       "    <tr>\n",
       "      <th>8</th>\n",
       "      <td>p_009</td>\n",
       "      <td>705</td>\n",
       "    </tr>\n",
       "    <tr>\n",
       "      <th>9</th>\n",
       "      <td>p_010</td>\n",
       "      <td>219</td>\n",
       "    </tr>\n",
       "    <tr>\n",
       "      <th>10</th>\n",
       "      <td>p_011</td>\n",
       "      <td>385</td>\n",
       "    </tr>\n",
       "    <tr>\n",
       "      <th>11</th>\n",
       "      <td>p_012</td>\n",
       "      <td>619</td>\n",
       "    </tr>\n",
       "    <tr>\n",
       "      <th>12</th>\n",
       "      <td>p_013</td>\n",
       "      <td>179</td>\n",
       "    </tr>\n",
       "    <tr>\n",
       "      <th>13</th>\n",
       "      <td>p_014</td>\n",
       "      <td>319</td>\n",
       "    </tr>\n",
       "    <tr>\n",
       "      <th>14</th>\n",
       "      <td>p_015</td>\n",
       "      <td>519</td>\n",
       "    </tr>\n",
       "    <tr>\n",
       "      <th>15</th>\n",
       "      <td>p_016</td>\n",
       "      <td>305</td>\n",
       "    </tr>\n",
       "    <tr>\n",
       "      <th>16</th>\n",
       "      <td>p_017</td>\n",
       "      <td>559</td>\n",
       "    </tr>\n",
       "    <tr>\n",
       "      <th>17</th>\n",
       "      <td>p_018</td>\n",
       "      <td>815</td>\n",
       "    </tr>\n",
       "    <tr>\n",
       "      <th>18</th>\n",
       "      <td>p_019</td>\n",
       "      <td>279</td>\n",
       "    </tr>\n",
       "    <tr>\n",
       "      <th>19</th>\n",
       "      <td>p_020</td>\n",
       "      <td>499</td>\n",
       "    </tr>\n",
       "    <tr>\n",
       "      <th>20</th>\n",
       "      <td>p_021</td>\n",
       "      <td>729</td>\n",
       "    </tr>\n",
       "    <tr>\n",
       "      <th>21</th>\n",
       "      <td>p_022</td>\n",
       "      <td>365</td>\n",
       "    </tr>\n",
       "    <tr>\n",
       "      <th>22</th>\n",
       "      <td>p_023</td>\n",
       "      <td>609</td>\n",
       "    </tr>\n",
       "    <tr>\n",
       "      <th>23</th>\n",
       "      <td>p_024</td>\n",
       "      <td>935</td>\n",
       "    </tr>\n",
       "    <tr>\n",
       "      <th>24</th>\n",
       "      <td>p_025</td>\n",
       "      <td>365</td>\n",
       "    </tr>\n",
       "    <tr>\n",
       "      <th>25</th>\n",
       "      <td>p_026</td>\n",
       "      <td>609</td>\n",
       "    </tr>\n",
       "    <tr>\n",
       "      <th>26</th>\n",
       "      <td>p_027</td>\n",
       "      <td>935</td>\n",
       "    </tr>\n",
       "    <tr>\n",
       "      <th>27</th>\n",
       "      <td>p_028</td>\n",
       "      <td>239</td>\n",
       "    </tr>\n",
       "    <tr>\n",
       "      <th>28</th>\n",
       "      <td>p_029</td>\n",
       "      <td>419</td>\n",
       "    </tr>\n",
       "    <tr>\n",
       "      <th>29</th>\n",
       "      <td>p_030</td>\n",
       "      <td>629</td>\n",
       "    </tr>\n",
       "    <tr>\n",
       "      <th>30</th>\n",
       "      <td>p_031</td>\n",
       "      <td>339</td>\n",
       "    </tr>\n",
       "    <tr>\n",
       "      <th>31</th>\n",
       "      <td>p_032</td>\n",
       "      <td>599</td>\n",
       "    </tr>\n",
       "    <tr>\n",
       "      <th>32</th>\n",
       "      <td>p_033</td>\n",
       "      <td>879</td>\n",
       "    </tr>\n",
       "    <tr>\n",
       "      <th>33</th>\n",
       "      <td>p_034</td>\n",
       "      <td>365</td>\n",
       "    </tr>\n",
       "    <tr>\n",
       "      <th>34</th>\n",
       "      <td>p_035</td>\n",
       "      <td>609</td>\n",
       "    </tr>\n",
       "    <tr>\n",
       "      <th>35</th>\n",
       "      <td>p_036</td>\n",
       "      <td>935</td>\n",
       "    </tr>\n",
       "    <tr>\n",
       "      <th>36</th>\n",
       "      <td>p_037</td>\n",
       "      <td>71</td>\n",
       "    </tr>\n",
       "  </tbody>\n",
       "</table>\n",
       "</div>"
      ],
      "text/plain": [
       "   item_id  Price\n",
       "0    p_001    109\n",
       "1    p_002    245\n",
       "2    p_003    455\n",
       "3    p_004    215\n",
       "4    p_005    385\n",
       "5    p_006    619\n",
       "6    p_007    265\n",
       "7    p_008    469\n",
       "8    p_009    705\n",
       "9    p_010    219\n",
       "10   p_011    385\n",
       "11   p_012    619\n",
       "12   p_013    179\n",
       "13   p_014    319\n",
       "14   p_015    519\n",
       "15   p_016    305\n",
       "16   p_017    559\n",
       "17   p_018    815\n",
       "18   p_019    279\n",
       "19   p_020    499\n",
       "20   p_021    729\n",
       "21   p_022    365\n",
       "22   p_023    609\n",
       "23   p_024    935\n",
       "24   p_025    365\n",
       "25   p_026    609\n",
       "26   p_027    935\n",
       "27   p_028    239\n",
       "28   p_029    419\n",
       "29   p_030    629\n",
       "30   p_031    339\n",
       "31   p_032    599\n",
       "32   p_033    879\n",
       "33   p_034    365\n",
       "34   p_035    609\n",
       "35   p_036    935\n",
       "36   p_037     71"
      ]
     },
     "execution_count": 35,
     "metadata": {},
     "output_type": "execute_result"
    }
   ],
   "source": [
    "pro_df"
   ]
  },
  {
   "cell_type": "code",
   "execution_count": 36,
   "id": "acaef29a",
   "metadata": {},
   "outputs": [],
   "source": [
    "item_keys = pd.Series(pro_df.item_id.values,index=pro_df.index)"
   ]
  },
  {
   "cell_type": "code",
   "execution_count": 37,
   "id": "acfb29a7",
   "metadata": {},
   "outputs": [
    {
     "data": {
      "text/plain": [
       "0     p_001\n",
       "1     p_002\n",
       "2     p_003\n",
       "3     p_004\n",
       "4     p_005\n",
       "5     p_006\n",
       "6     p_007\n",
       "7     p_008\n",
       "8     p_009\n",
       "9     p_010\n",
       "10    p_011\n",
       "11    p_012\n",
       "12    p_013\n",
       "13    p_014\n",
       "14    p_015\n",
       "15    p_016\n",
       "16    p_017\n",
       "17    p_018\n",
       "18    p_019\n",
       "19    p_020\n",
       "20    p_021\n",
       "21    p_022\n",
       "22    p_023\n",
       "23    p_024\n",
       "24    p_025\n",
       "25    p_026\n",
       "26    p_027\n",
       "27    p_028\n",
       "28    p_029\n",
       "29    p_030\n",
       "30    p_031\n",
       "31    p_032\n",
       "32    p_033\n",
       "33    p_034\n",
       "34    p_035\n",
       "35    p_036\n",
       "36    p_037\n",
       "dtype: object"
      ]
     },
     "execution_count": 37,
     "metadata": {},
     "output_type": "execute_result"
    }
   ],
   "source": [
    "item_keys"
   ]
  },
  {
   "cell_type": "code",
   "execution_count": 38,
   "id": "d4138bed",
   "metadata": {},
   "outputs": [],
   "source": [
    "item_price = pd.Series(pro_df.Price.values,index=pro_df.index)"
   ]
  },
  {
   "cell_type": "code",
   "execution_count": 39,
   "id": "053d38e3",
   "metadata": {},
   "outputs": [
    {
     "data": {
      "text/plain": [
       "0     109\n",
       "1     245\n",
       "2     455\n",
       "3     215\n",
       "4     385\n",
       "5     619\n",
       "6     265\n",
       "7     469\n",
       "8     705\n",
       "9     219\n",
       "10    385\n",
       "11    619\n",
       "12    179\n",
       "13    319\n",
       "14    519\n",
       "15    305\n",
       "16    559\n",
       "17    815\n",
       "18    279\n",
       "19    499\n",
       "20    729\n",
       "21    365\n",
       "22    609\n",
       "23    935\n",
       "24    365\n",
       "25    609\n",
       "26    935\n",
       "27    239\n",
       "28    419\n",
       "29    629\n",
       "30    339\n",
       "31    599\n",
       "32    879\n",
       "33    365\n",
       "34    609\n",
       "35    935\n",
       "36     71\n",
       "dtype: int64"
      ]
     },
     "execution_count": 39,
     "metadata": {},
     "output_type": "execute_result"
    }
   ],
   "source": [
    "item_price"
   ]
  },
  {
   "cell_type": "code",
   "execution_count": 40,
   "id": "fe78e095",
   "metadata": {},
   "outputs": [],
   "source": [
    "items = dict()\n",
    "for i,j in zip(item_keys,item_price):\n",
    "    items[i]=j"
   ]
  },
  {
   "cell_type": "code",
   "execution_count": 41,
   "id": "8b5b02b2",
   "metadata": {},
   "outputs": [
    {
     "data": {
      "text/plain": [
       "{'p_001': 109,\n",
       " 'p_002': 245,\n",
       " 'p_003': 455,\n",
       " 'p_004': 215,\n",
       " 'p_005': 385,\n",
       " 'p_006': 619,\n",
       " 'p_007': 265,\n",
       " 'p_008': 469,\n",
       " 'p_009': 705,\n",
       " 'p_010': 219,\n",
       " 'p_011': 385,\n",
       " 'p_012': 619,\n",
       " 'p_013': 179,\n",
       " 'p_014': 319,\n",
       " 'p_015': 519,\n",
       " 'p_016': 305,\n",
       " 'p_017': 559,\n",
       " 'p_018': 815,\n",
       " 'p_019': 279,\n",
       " 'p_020': 499,\n",
       " 'p_021': 729,\n",
       " 'p_022': 365,\n",
       " 'p_023': 609,\n",
       " 'p_024': 935,\n",
       " 'p_025': 365,\n",
       " 'p_026': 609,\n",
       " 'p_027': 935,\n",
       " 'p_028': 239,\n",
       " 'p_029': 419,\n",
       " 'p_030': 629,\n",
       " 'p_031': 339,\n",
       " 'p_032': 599,\n",
       " 'p_033': 879,\n",
       " 'p_034': 365,\n",
       " 'p_035': 609,\n",
       " 'p_036': 935,\n",
       " 'p_037': 71}"
      ]
     },
     "execution_count": 41,
     "metadata": {},
     "output_type": "execute_result"
    }
   ],
   "source": [
    "items"
   ]
  },
  {
   "cell_type": "code",
   "execution_count": 42,
   "id": "3fe44f69",
   "metadata": {},
   "outputs": [
    {
     "data": {
      "text/plain": [
       "935"
      ]
     },
     "execution_count": 42,
     "metadata": {},
     "output_type": "execute_result"
    }
   ],
   "source": [
    "items.get('p_024')"
   ]
  },
  {
   "cell_type": "code",
   "execution_count": 43,
   "id": "e935b54e",
   "metadata": {},
   "outputs": [
    {
     "data": {
      "text/html": [
       "<div>\n",
       "<style scoped>\n",
       "    .dataframe tbody tr th:only-of-type {\n",
       "        vertical-align: middle;\n",
       "    }\n",
       "\n",
       "    .dataframe tbody tr th {\n",
       "        vertical-align: top;\n",
       "    }\n",
       "\n",
       "    .dataframe thead th {\n",
       "        text-align: right;\n",
       "    }\n",
       "</style>\n",
       "<table border=\"1\" class=\"dataframe\">\n",
       "  <thead>\n",
       "    <tr style=\"text-align: right;\">\n",
       "      <th></th>\n",
       "      <th>order_id</th>\n",
       "      <th>time_stamp</th>\n",
       "      <th>status</th>\n",
       "      <th>order_placed_at</th>\n",
       "      <th>Duration</th>\n",
       "      <th>items_ordered</th>\n",
       "    </tr>\n",
       "  </thead>\n",
       "  <tbody>\n",
       "    <tr>\n",
       "      <th>0</th>\n",
       "      <td>321230114</td>\n",
       "      <td>2020-12-11 00:01:29.000000000</td>\n",
       "      <td>Pending</td>\n",
       "      <td>2020-12-11 00:01:29</td>\n",
       "      <td>0.000000</td>\n",
       "      <td>['p_025', 'p_032', 'p_037']</td>\n",
       "    </tr>\n",
       "    <tr>\n",
       "      <th>1</th>\n",
       "      <td>321230114</td>\n",
       "      <td>2020-12-11 00:06:29.000000000</td>\n",
       "      <td>Out For Delivery</td>\n",
       "      <td>2020-12-11 00:01:29</td>\n",
       "      <td>5.000000</td>\n",
       "      <td>['p_025', 'p_032', 'p_037']</td>\n",
       "    </tr>\n",
       "    <tr>\n",
       "      <th>2</th>\n",
       "      <td>321230114</td>\n",
       "      <td>2020-12-11 00:19:13.299151076</td>\n",
       "      <td>Delivered</td>\n",
       "      <td>2020-12-11 00:01:29</td>\n",
       "      <td>17.738319</td>\n",
       "      <td>['p_025', 'p_032', 'p_037']</td>\n",
       "    </tr>\n",
       "    <tr>\n",
       "      <th>3</th>\n",
       "      <td>321230115</td>\n",
       "      <td>2020-12-11 00:36:02.000000000</td>\n",
       "      <td>Pending</td>\n",
       "      <td>2020-12-11 00:36:02</td>\n",
       "      <td>0.000000</td>\n",
       "      <td>['p_017', 'p_012']</td>\n",
       "    </tr>\n",
       "    <tr>\n",
       "      <th>4</th>\n",
       "      <td>321230115</td>\n",
       "      <td>2020-12-11 00:41:02.000000000</td>\n",
       "      <td>Out For Delivery</td>\n",
       "      <td>2020-12-11 00:36:02</td>\n",
       "      <td>5.000000</td>\n",
       "      <td>['p_017', 'p_012']</td>\n",
       "    </tr>\n",
       "    <tr>\n",
       "      <th>...</th>\n",
       "      <td>...</td>\n",
       "      <td>...</td>\n",
       "      <td>...</td>\n",
       "      <td>...</td>\n",
       "      <td>...</td>\n",
       "      <td>...</td>\n",
       "    </tr>\n",
       "    <tr>\n",
       "      <th>1363003</th>\n",
       "      <td>321684449</td>\n",
       "      <td>2024-02-01 00:00:46.000000000</td>\n",
       "      <td>Out For Delivery</td>\n",
       "      <td>2024-01-31 23:55:46</td>\n",
       "      <td>5.000000</td>\n",
       "      <td>['p_022', 'p_037']</td>\n",
       "    </tr>\n",
       "    <tr>\n",
       "      <th>1363004</th>\n",
       "      <td>321684449</td>\n",
       "      <td>2024-02-01 00:14:56.997433391</td>\n",
       "      <td>Delivered</td>\n",
       "      <td>2024-01-31 23:55:46</td>\n",
       "      <td>19.183291</td>\n",
       "      <td>['p_022', 'p_037']</td>\n",
       "    </tr>\n",
       "    <tr>\n",
       "      <th>1363005</th>\n",
       "      <td>321684448</td>\n",
       "      <td>2024-01-31 23:58:05.000000000</td>\n",
       "      <td>Pending</td>\n",
       "      <td>2024-01-31 23:58:05</td>\n",
       "      <td>0.000000</td>\n",
       "      <td>['p_007', 'p_003', 'p_037']</td>\n",
       "    </tr>\n",
       "    <tr>\n",
       "      <th>1363006</th>\n",
       "      <td>321684448</td>\n",
       "      <td>2024-02-01 00:03:05.000000000</td>\n",
       "      <td>Out For Delivery</td>\n",
       "      <td>2024-01-31 23:58:05</td>\n",
       "      <td>5.000000</td>\n",
       "      <td>['p_007', 'p_003', 'p_037']</td>\n",
       "    </tr>\n",
       "    <tr>\n",
       "      <th>1363007</th>\n",
       "      <td>321684448</td>\n",
       "      <td>2024-02-01 00:17:50.996900711</td>\n",
       "      <td>Delivered</td>\n",
       "      <td>2024-01-31 23:58:05</td>\n",
       "      <td>19.766615</td>\n",
       "      <td>['p_007', 'p_003', 'p_037']</td>\n",
       "    </tr>\n",
       "  </tbody>\n",
       "</table>\n",
       "<p>1363008 rows × 6 columns</p>\n",
       "</div>"
      ],
      "text/plain": [
       "          order_id                    time_stamp            status  \\\n",
       "0        321230114 2020-12-11 00:01:29.000000000           Pending   \n",
       "1        321230114 2020-12-11 00:06:29.000000000  Out For Delivery   \n",
       "2        321230114 2020-12-11 00:19:13.299151076         Delivered   \n",
       "3        321230115 2020-12-11 00:36:02.000000000           Pending   \n",
       "4        321230115 2020-12-11 00:41:02.000000000  Out For Delivery   \n",
       "...            ...                           ...               ...   \n",
       "1363003  321684449 2024-02-01 00:00:46.000000000  Out For Delivery   \n",
       "1363004  321684449 2024-02-01 00:14:56.997433391         Delivered   \n",
       "1363005  321684448 2024-01-31 23:58:05.000000000           Pending   \n",
       "1363006  321684448 2024-02-01 00:03:05.000000000  Out For Delivery   \n",
       "1363007  321684448 2024-02-01 00:17:50.996900711         Delivered   \n",
       "\n",
       "            order_placed_at   Duration                items_ordered  \n",
       "0       2020-12-11 00:01:29   0.000000  ['p_025', 'p_032', 'p_037']  \n",
       "1       2020-12-11 00:01:29   5.000000  ['p_025', 'p_032', 'p_037']  \n",
       "2       2020-12-11 00:01:29  17.738319  ['p_025', 'p_032', 'p_037']  \n",
       "3       2020-12-11 00:36:02   0.000000           ['p_017', 'p_012']  \n",
       "4       2020-12-11 00:36:02   5.000000           ['p_017', 'p_012']  \n",
       "...                     ...        ...                          ...  \n",
       "1363003 2024-01-31 23:55:46   5.000000           ['p_022', 'p_037']  \n",
       "1363004 2024-01-31 23:55:46  19.183291           ['p_022', 'p_037']  \n",
       "1363005 2024-01-31 23:58:05   0.000000  ['p_007', 'p_003', 'p_037']  \n",
       "1363006 2024-01-31 23:58:05   5.000000  ['p_007', 'p_003', 'p_037']  \n",
       "1363007 2024-01-31 23:58:05  19.766615  ['p_007', 'p_003', 'p_037']  \n",
       "\n",
       "[1363008 rows x 6 columns]"
      ]
     },
     "execution_count": 43,
     "metadata": {},
     "output_type": "execute_result"
    }
   ],
   "source": [
    "df_total"
   ]
  },
  {
   "cell_type": "code",
   "execution_count": 44,
   "id": "77606ebe",
   "metadata": {},
   "outputs": [],
   "source": [
    "def add(items):\n",
    "    join_str =''.join(items)\n",
    "    clean_str = join_str.strip(\"[]' \")\n",
    "    cor_list = [i.strip() for i in clean_str.split(',')]\n",
    "    return cor_list"
   ]
  },
  {
   "cell_type": "code",
   "execution_count": 45,
   "id": "805116fe",
   "metadata": {},
   "outputs": [],
   "source": [
    "df_total['items_ordered'] = df_total['items_ordered'].apply(add)"
   ]
  },
  {
   "cell_type": "code",
   "execution_count": 46,
   "id": "751b9d1e",
   "metadata": {},
   "outputs": [
    {
     "data": {
      "text/plain": [
       "0          [p_025', 'p_032', 'p_037]\n",
       "1          [p_025', 'p_032', 'p_037]\n",
       "2          [p_025', 'p_032', 'p_037]\n",
       "3                   [p_017', 'p_012]\n",
       "4                   [p_017', 'p_012]\n",
       "                     ...            \n",
       "1363003             [p_022', 'p_037]\n",
       "1363004             [p_022', 'p_037]\n",
       "1363005    [p_007', 'p_003', 'p_037]\n",
       "1363006    [p_007', 'p_003', 'p_037]\n",
       "1363007    [p_007', 'p_003', 'p_037]\n",
       "Name: items_ordered, Length: 1363008, dtype: object"
      ]
     },
     "execution_count": 46,
     "metadata": {},
     "output_type": "execute_result"
    }
   ],
   "source": [
    "df_total['items_ordered']"
   ]
  },
  {
   "cell_type": "code",
   "execution_count": 47,
   "id": "6a4ea9c9",
   "metadata": {},
   "outputs": [],
   "source": [
    "def cal_total_price(items_list):\n",
    "    cleaned_items = [item.strip(\"'\") for item in items_list]\n",
    "    return sum(items[item] for item in cleaned_items)"
   ]
  },
  {
   "cell_type": "code",
   "execution_count": 48,
   "id": "85e466c2",
   "metadata": {},
   "outputs": [],
   "source": [
    "df_total['total_price'] = df_total['items_ordered'].apply(cal_total_price)"
   ]
  },
  {
   "cell_type": "code",
   "execution_count": 49,
   "id": "059799ab",
   "metadata": {},
   "outputs": [
    {
     "data": {
      "text/html": [
       "<div>\n",
       "<style scoped>\n",
       "    .dataframe tbody tr th:only-of-type {\n",
       "        vertical-align: middle;\n",
       "    }\n",
       "\n",
       "    .dataframe tbody tr th {\n",
       "        vertical-align: top;\n",
       "    }\n",
       "\n",
       "    .dataframe thead th {\n",
       "        text-align: right;\n",
       "    }\n",
       "</style>\n",
       "<table border=\"1\" class=\"dataframe\">\n",
       "  <thead>\n",
       "    <tr style=\"text-align: right;\">\n",
       "      <th></th>\n",
       "      <th>order_id</th>\n",
       "      <th>time_stamp</th>\n",
       "      <th>status</th>\n",
       "      <th>order_placed_at</th>\n",
       "      <th>Duration</th>\n",
       "      <th>items_ordered</th>\n",
       "      <th>total_price</th>\n",
       "    </tr>\n",
       "  </thead>\n",
       "  <tbody>\n",
       "    <tr>\n",
       "      <th>0</th>\n",
       "      <td>321230114</td>\n",
       "      <td>2020-12-11 00:01:29.000000000</td>\n",
       "      <td>Pending</td>\n",
       "      <td>2020-12-11 00:01:29</td>\n",
       "      <td>0.000000</td>\n",
       "      <td>[p_025', 'p_032', 'p_037]</td>\n",
       "      <td>1035</td>\n",
       "    </tr>\n",
       "    <tr>\n",
       "      <th>1</th>\n",
       "      <td>321230114</td>\n",
       "      <td>2020-12-11 00:06:29.000000000</td>\n",
       "      <td>Out For Delivery</td>\n",
       "      <td>2020-12-11 00:01:29</td>\n",
       "      <td>5.000000</td>\n",
       "      <td>[p_025', 'p_032', 'p_037]</td>\n",
       "      <td>1035</td>\n",
       "    </tr>\n",
       "    <tr>\n",
       "      <th>2</th>\n",
       "      <td>321230114</td>\n",
       "      <td>2020-12-11 00:19:13.299151076</td>\n",
       "      <td>Delivered</td>\n",
       "      <td>2020-12-11 00:01:29</td>\n",
       "      <td>17.738319</td>\n",
       "      <td>[p_025', 'p_032', 'p_037]</td>\n",
       "      <td>1035</td>\n",
       "    </tr>\n",
       "    <tr>\n",
       "      <th>3</th>\n",
       "      <td>321230115</td>\n",
       "      <td>2020-12-11 00:36:02.000000000</td>\n",
       "      <td>Pending</td>\n",
       "      <td>2020-12-11 00:36:02</td>\n",
       "      <td>0.000000</td>\n",
       "      <td>[p_017', 'p_012]</td>\n",
       "      <td>1178</td>\n",
       "    </tr>\n",
       "    <tr>\n",
       "      <th>4</th>\n",
       "      <td>321230115</td>\n",
       "      <td>2020-12-11 00:41:02.000000000</td>\n",
       "      <td>Out For Delivery</td>\n",
       "      <td>2020-12-11 00:36:02</td>\n",
       "      <td>5.000000</td>\n",
       "      <td>[p_017', 'p_012]</td>\n",
       "      <td>1178</td>\n",
       "    </tr>\n",
       "    <tr>\n",
       "      <th>...</th>\n",
       "      <td>...</td>\n",
       "      <td>...</td>\n",
       "      <td>...</td>\n",
       "      <td>...</td>\n",
       "      <td>...</td>\n",
       "      <td>...</td>\n",
       "      <td>...</td>\n",
       "    </tr>\n",
       "    <tr>\n",
       "      <th>1363003</th>\n",
       "      <td>321684449</td>\n",
       "      <td>2024-02-01 00:00:46.000000000</td>\n",
       "      <td>Out For Delivery</td>\n",
       "      <td>2024-01-31 23:55:46</td>\n",
       "      <td>5.000000</td>\n",
       "      <td>[p_022', 'p_037]</td>\n",
       "      <td>436</td>\n",
       "    </tr>\n",
       "    <tr>\n",
       "      <th>1363004</th>\n",
       "      <td>321684449</td>\n",
       "      <td>2024-02-01 00:14:56.997433391</td>\n",
       "      <td>Delivered</td>\n",
       "      <td>2024-01-31 23:55:46</td>\n",
       "      <td>19.183291</td>\n",
       "      <td>[p_022', 'p_037]</td>\n",
       "      <td>436</td>\n",
       "    </tr>\n",
       "    <tr>\n",
       "      <th>1363005</th>\n",
       "      <td>321684448</td>\n",
       "      <td>2024-01-31 23:58:05.000000000</td>\n",
       "      <td>Pending</td>\n",
       "      <td>2024-01-31 23:58:05</td>\n",
       "      <td>0.000000</td>\n",
       "      <td>[p_007', 'p_003', 'p_037]</td>\n",
       "      <td>791</td>\n",
       "    </tr>\n",
       "    <tr>\n",
       "      <th>1363006</th>\n",
       "      <td>321684448</td>\n",
       "      <td>2024-02-01 00:03:05.000000000</td>\n",
       "      <td>Out For Delivery</td>\n",
       "      <td>2024-01-31 23:58:05</td>\n",
       "      <td>5.000000</td>\n",
       "      <td>[p_007', 'p_003', 'p_037]</td>\n",
       "      <td>791</td>\n",
       "    </tr>\n",
       "    <tr>\n",
       "      <th>1363007</th>\n",
       "      <td>321684448</td>\n",
       "      <td>2024-02-01 00:17:50.996900711</td>\n",
       "      <td>Delivered</td>\n",
       "      <td>2024-01-31 23:58:05</td>\n",
       "      <td>19.766615</td>\n",
       "      <td>[p_007', 'p_003', 'p_037]</td>\n",
       "      <td>791</td>\n",
       "    </tr>\n",
       "  </tbody>\n",
       "</table>\n",
       "<p>1363008 rows × 7 columns</p>\n",
       "</div>"
      ],
      "text/plain": [
       "          order_id                    time_stamp            status  \\\n",
       "0        321230114 2020-12-11 00:01:29.000000000           Pending   \n",
       "1        321230114 2020-12-11 00:06:29.000000000  Out For Delivery   \n",
       "2        321230114 2020-12-11 00:19:13.299151076         Delivered   \n",
       "3        321230115 2020-12-11 00:36:02.000000000           Pending   \n",
       "4        321230115 2020-12-11 00:41:02.000000000  Out For Delivery   \n",
       "...            ...                           ...               ...   \n",
       "1363003  321684449 2024-02-01 00:00:46.000000000  Out For Delivery   \n",
       "1363004  321684449 2024-02-01 00:14:56.997433391         Delivered   \n",
       "1363005  321684448 2024-01-31 23:58:05.000000000           Pending   \n",
       "1363006  321684448 2024-02-01 00:03:05.000000000  Out For Delivery   \n",
       "1363007  321684448 2024-02-01 00:17:50.996900711         Delivered   \n",
       "\n",
       "            order_placed_at   Duration              items_ordered  total_price  \n",
       "0       2020-12-11 00:01:29   0.000000  [p_025', 'p_032', 'p_037]         1035  \n",
       "1       2020-12-11 00:01:29   5.000000  [p_025', 'p_032', 'p_037]         1035  \n",
       "2       2020-12-11 00:01:29  17.738319  [p_025', 'p_032', 'p_037]         1035  \n",
       "3       2020-12-11 00:36:02   0.000000           [p_017', 'p_012]         1178  \n",
       "4       2020-12-11 00:36:02   5.000000           [p_017', 'p_012]         1178  \n",
       "...                     ...        ...                        ...          ...  \n",
       "1363003 2024-01-31 23:55:46   5.000000           [p_022', 'p_037]          436  \n",
       "1363004 2024-01-31 23:55:46  19.183291           [p_022', 'p_037]          436  \n",
       "1363005 2024-01-31 23:58:05   0.000000  [p_007', 'p_003', 'p_037]          791  \n",
       "1363006 2024-01-31 23:58:05   5.000000  [p_007', 'p_003', 'p_037]          791  \n",
       "1363007 2024-01-31 23:58:05  19.766615  [p_007', 'p_003', 'p_037]          791  \n",
       "\n",
       "[1363008 rows x 7 columns]"
      ]
     },
     "execution_count": 49,
     "metadata": {},
     "output_type": "execute_result"
    }
   ],
   "source": [
    "df_total"
   ]
  },
  {
   "cell_type": "code",
   "execution_count": 50,
   "id": "79b6ed01",
   "metadata": {},
   "outputs": [],
   "source": [
    "refund = df_total[df_total['order_placed_at'].dt.year == 2023]"
   ]
  },
  {
   "cell_type": "code",
   "execution_count": 51,
   "id": "e6696f8b",
   "metadata": {},
   "outputs": [
    {
     "data": {
      "text/plain": [
       "array(['Pending', 'Out For Delivery', 'Delivered'], dtype=object)"
      ]
     },
     "execution_count": 51,
     "metadata": {},
     "output_type": "execute_result"
    }
   ],
   "source": [
    "refund['status'].unique()"
   ]
  },
  {
   "cell_type": "code",
   "execution_count": 52,
   "id": "9586af2f",
   "metadata": {},
   "outputs": [
    {
     "data": {
      "text/html": [
       "<div>\n",
       "<style scoped>\n",
       "    .dataframe tbody tr th:only-of-type {\n",
       "        vertical-align: middle;\n",
       "    }\n",
       "\n",
       "    .dataframe tbody tr th {\n",
       "        vertical-align: top;\n",
       "    }\n",
       "\n",
       "    .dataframe thead th {\n",
       "        text-align: right;\n",
       "    }\n",
       "</style>\n",
       "<table border=\"1\" class=\"dataframe\">\n",
       "  <thead>\n",
       "    <tr style=\"text-align: right;\">\n",
       "      <th></th>\n",
       "      <th>order_id</th>\n",
       "      <th>time_stamp</th>\n",
       "      <th>status</th>\n",
       "      <th>order_placed_at</th>\n",
       "      <th>Duration</th>\n",
       "      <th>items_ordered</th>\n",
       "      <th>total_price</th>\n",
       "    </tr>\n",
       "  </thead>\n",
       "  <tbody>\n",
       "    <tr>\n",
       "      <th>871790</th>\n",
       "      <td>321520710</td>\n",
       "      <td>2023-01-01 07:13:53.796142791</td>\n",
       "      <td>Delivered</td>\n",
       "      <td>2023-01-01 06:43:17</td>\n",
       "      <td>30.613269</td>\n",
       "      <td>[p_020', 'p_030', 'p_037]</td>\n",
       "      <td>1199</td>\n",
       "    </tr>\n",
       "    <tr>\n",
       "      <th>872003</th>\n",
       "      <td>321520781</td>\n",
       "      <td>2023-01-01 12:21:27.548250439</td>\n",
       "      <td>Delivered</td>\n",
       "      <td>2023-01-01 11:50:08</td>\n",
       "      <td>31.325804</td>\n",
       "      <td>[p_003', 'p_023]</td>\n",
       "      <td>1064</td>\n",
       "    </tr>\n",
       "    <tr>\n",
       "      <th>872297</th>\n",
       "      <td>321520881</td>\n",
       "      <td>2023-01-01 16:09:22.481604124</td>\n",
       "      <td>Delivered</td>\n",
       "      <td>2023-01-01 15:32:36</td>\n",
       "      <td>36.774693</td>\n",
       "      <td>[p_023', 'p_005', 'p_037]</td>\n",
       "      <td>1065</td>\n",
       "    </tr>\n",
       "    <tr>\n",
       "      <th>872411</th>\n",
       "      <td>321520917</td>\n",
       "      <td>2023-01-01 18:05:14.271442042</td>\n",
       "      <td>Delivered</td>\n",
       "      <td>2023-01-01 17:33:28</td>\n",
       "      <td>31.771191</td>\n",
       "      <td>[p_019', 'p_035', 'p_037]</td>\n",
       "      <td>959</td>\n",
       "    </tr>\n",
       "    <tr>\n",
       "      <th>872504</th>\n",
       "      <td>321520947</td>\n",
       "      <td>2023-01-01 19:33:06.691488219</td>\n",
       "      <td>Delivered</td>\n",
       "      <td>2023-01-01 19:01:40</td>\n",
       "      <td>31.444858</td>\n",
       "      <td>[p_034', 'p_024', 'p_037]</td>\n",
       "      <td>1371</td>\n",
       "    </tr>\n",
       "    <tr>\n",
       "      <th>...</th>\n",
       "      <td>...</td>\n",
       "      <td>...</td>\n",
       "      <td>...</td>\n",
       "      <td>...</td>\n",
       "      <td>...</td>\n",
       "      <td>...</td>\n",
       "      <td>...</td>\n",
       "    </tr>\n",
       "    <tr>\n",
       "      <th>1324913</th>\n",
       "      <td>321671750</td>\n",
       "      <td>2023-12-31 03:16:59.733576587</td>\n",
       "      <td>Delivered</td>\n",
       "      <td>2023-12-31 02:45:46</td>\n",
       "      <td>31.228893</td>\n",
       "      <td>[p_016', 'p_035', 'p_037]</td>\n",
       "      <td>985</td>\n",
       "    </tr>\n",
       "    <tr>\n",
       "      <th>1325021</th>\n",
       "      <td>321671786</td>\n",
       "      <td>2023-12-31 08:14:03.021796853</td>\n",
       "      <td>Delivered</td>\n",
       "      <td>2023-12-31 07:43:40</td>\n",
       "      <td>30.383697</td>\n",
       "      <td>[p_006', 'p_034', 'p_037]</td>\n",
       "      <td>1055</td>\n",
       "    </tr>\n",
       "    <tr>\n",
       "      <th>1325138</th>\n",
       "      <td>321671826</td>\n",
       "      <td>2023-12-31 10:54:48.241061676</td>\n",
       "      <td>Delivered</td>\n",
       "      <td>2023-12-31 10:17:18</td>\n",
       "      <td>37.504018</td>\n",
       "      <td>[p_029', 'p_006]</td>\n",
       "      <td>1038</td>\n",
       "    </tr>\n",
       "    <tr>\n",
       "      <th>1325858</th>\n",
       "      <td>321672065</td>\n",
       "      <td>2023-12-31 21:02:07.686868217</td>\n",
       "      <td>Delivered</td>\n",
       "      <td>2023-12-31 20:27:16</td>\n",
       "      <td>34.861448</td>\n",
       "      <td>[p_021', 'p_037]</td>\n",
       "      <td>800</td>\n",
       "    </tr>\n",
       "    <tr>\n",
       "      <th>1325912</th>\n",
       "      <td>321672083</td>\n",
       "      <td>2023-12-31 21:43:40.912531676</td>\n",
       "      <td>Delivered</td>\n",
       "      <td>2023-12-31 21:11:54</td>\n",
       "      <td>31.781876</td>\n",
       "      <td>[p_013', 'p_037]</td>\n",
       "      <td>250</td>\n",
       "    </tr>\n",
       "  </tbody>\n",
       "</table>\n",
       "<p>2003 rows × 7 columns</p>\n",
       "</div>"
      ],
      "text/plain": [
       "          order_id                    time_stamp     status  \\\n",
       "871790   321520710 2023-01-01 07:13:53.796142791  Delivered   \n",
       "872003   321520781 2023-01-01 12:21:27.548250439  Delivered   \n",
       "872297   321520881 2023-01-01 16:09:22.481604124  Delivered   \n",
       "872411   321520917 2023-01-01 18:05:14.271442042  Delivered   \n",
       "872504   321520947 2023-01-01 19:33:06.691488219  Delivered   \n",
       "...            ...                           ...        ...   \n",
       "1324913  321671750 2023-12-31 03:16:59.733576587  Delivered   \n",
       "1325021  321671786 2023-12-31 08:14:03.021796853  Delivered   \n",
       "1325138  321671826 2023-12-31 10:54:48.241061676  Delivered   \n",
       "1325858  321672065 2023-12-31 21:02:07.686868217  Delivered   \n",
       "1325912  321672083 2023-12-31 21:43:40.912531676  Delivered   \n",
       "\n",
       "            order_placed_at   Duration              items_ordered  total_price  \n",
       "871790  2023-01-01 06:43:17  30.613269  [p_020', 'p_030', 'p_037]         1199  \n",
       "872003  2023-01-01 11:50:08  31.325804           [p_003', 'p_023]         1064  \n",
       "872297  2023-01-01 15:32:36  36.774693  [p_023', 'p_005', 'p_037]         1065  \n",
       "872411  2023-01-01 17:33:28  31.771191  [p_019', 'p_035', 'p_037]          959  \n",
       "872504  2023-01-01 19:01:40  31.444858  [p_034', 'p_024', 'p_037]         1371  \n",
       "...                     ...        ...                        ...          ...  \n",
       "1324913 2023-12-31 02:45:46  31.228893  [p_016', 'p_035', 'p_037]          985  \n",
       "1325021 2023-12-31 07:43:40  30.383697  [p_006', 'p_034', 'p_037]         1055  \n",
       "1325138 2023-12-31 10:17:18  37.504018           [p_029', 'p_006]         1038  \n",
       "1325858 2023-12-31 20:27:16  34.861448           [p_021', 'p_037]          800  \n",
       "1325912 2023-12-31 21:11:54  31.781876           [p_013', 'p_037]          250  \n",
       "\n",
       "[2003 rows x 7 columns]"
      ]
     },
     "execution_count": 52,
     "metadata": {},
     "output_type": "execute_result"
    }
   ],
   "source": [
    "loss_amount = refund[refund['Duration']>30]\n",
    "loss_amount"
   ]
  },
  {
   "cell_type": "code",
   "execution_count": 53,
   "id": "4ee2abae",
   "metadata": {},
   "outputs": [
    {
     "data": {
      "text/plain": [
       "2003"
      ]
     },
     "execution_count": 53,
     "metadata": {},
     "output_type": "execute_result"
    }
   ],
   "source": [
    "len(loss_amount['total_price'].values)"
   ]
  },
  {
   "cell_type": "code",
   "execution_count": 54,
   "id": "e1653972",
   "metadata": {},
   "outputs": [
    {
     "data": {
      "text/plain": [
       "1826393"
      ]
     },
     "execution_count": 54,
     "metadata": {},
     "output_type": "execute_result"
    }
   ],
   "source": [
    "loss_amount_2023 = sum(loss_amount['total_price'].values)\n",
    "loss_amount_2023"
   ]
  },
  {
   "cell_type": "markdown",
   "id": "f47960ec",
   "metadata": {},
   "source": [
    "###### 8. In which year Pizza store has lost maximum amount due to refunds on late deliveries?"
   ]
  },
  {
   "cell_type": "code",
   "execution_count": 55,
   "id": "2bc80cda",
   "metadata": {},
   "outputs": [
    {
     "data": {
      "text/plain": [
       "array([2020, 2021, 2022, 2023, 2024])"
      ]
     },
     "execution_count": 55,
     "metadata": {},
     "output_type": "execute_result"
    }
   ],
   "source": [
    "df_total['order_placed_at'].dt.year.unique()"
   ]
  },
  {
   "cell_type": "markdown",
   "id": "3007cb65",
   "metadata": {},
   "source": [
    "#### loss_amount_20220"
   ]
  },
  {
   "cell_type": "code",
   "execution_count": 56,
   "id": "d083432e",
   "metadata": {},
   "outputs": [
    {
     "data": {
      "text/plain": [
       "96688"
      ]
     },
     "execution_count": 56,
     "metadata": {},
     "output_type": "execute_result"
    }
   ],
   "source": [
    "refund = df_total[df_total['order_placed_at'].dt.year == 2020]\n",
    "loss_amount = refund[refund['Duration']>30]\n",
    "loss_amount_2020 = sum(loss_amount['total_price'].values)\n",
    "loss_amount_2020"
   ]
  },
  {
   "cell_type": "markdown",
   "id": "6918f9db",
   "metadata": {},
   "source": [
    "#### loss_amount_2021"
   ]
  },
  {
   "cell_type": "code",
   "execution_count": 57,
   "id": "fb30efb2",
   "metadata": {},
   "outputs": [
    {
     "data": {
      "text/plain": [
       "1791568"
      ]
     },
     "execution_count": 57,
     "metadata": {},
     "output_type": "execute_result"
    }
   ],
   "source": [
    "refund = df_total[df_total['order_placed_at'].dt.year == 2021]\n",
    "loss_amount = refund[refund['Duration']>30]\n",
    "loss_amount_2021 = sum(loss_amount['total_price'].values)\n",
    "loss_amount_2021"
   ]
  },
  {
   "cell_type": "markdown",
   "id": "8adbf257",
   "metadata": {},
   "source": [
    "#### loss_amount_2022"
   ]
  },
  {
   "cell_type": "code",
   "execution_count": 58,
   "id": "9f1cc720",
   "metadata": {},
   "outputs": [
    {
     "data": {
      "text/plain": [
       "1664113"
      ]
     },
     "execution_count": 58,
     "metadata": {},
     "output_type": "execute_result"
    }
   ],
   "source": [
    "refund = df_total[df_total['order_placed_at'].dt.year == 2022]\n",
    "loss_amount = refund[refund['Duration']>30]\n",
    "loss_amount_2022 = sum(loss_amount['total_price'].values)\n",
    "loss_amount_2022"
   ]
  },
  {
   "cell_type": "markdown",
   "id": "8b1457c9",
   "metadata": {},
   "source": [
    "#### loss_amount_2023"
   ]
  },
  {
   "cell_type": "code",
   "execution_count": 59,
   "id": "e1b76787",
   "metadata": {},
   "outputs": [
    {
     "data": {
      "text/plain": [
       "1826393"
      ]
     },
     "execution_count": 59,
     "metadata": {},
     "output_type": "execute_result"
    }
   ],
   "source": [
    "loss_amount_2023"
   ]
  },
  {
   "cell_type": "markdown",
   "id": "d11725c9",
   "metadata": {},
   "source": [
    "#### loss_amount_2024"
   ]
  },
  {
   "cell_type": "code",
   "execution_count": 60,
   "id": "8ce0417a",
   "metadata": {},
   "outputs": [
    {
     "data": {
      "text/plain": [
       "145669"
      ]
     },
     "execution_count": 60,
     "metadata": {},
     "output_type": "execute_result"
    }
   ],
   "source": [
    "refund = df_total[df_total['order_placed_at'].dt.year == 2024]\n",
    "loss_amount = refund[refund['Duration']>30]\n",
    "loss_amount_2024 = sum(loss_amount['total_price'].values)\n",
    "loss_amount_2024"
   ]
  },
  {
   "cell_type": "markdown",
   "id": "a4fdaeab",
   "metadata": {},
   "source": [
    "###### 9. How much revenue is generated by the pizza store till date? Don't include the refund amount in revenue."
   ]
  },
  {
   "cell_type": "code",
   "execution_count": 61,
   "id": "486c7a74",
   "metadata": {},
   "outputs": [
    {
     "data": {
      "text/plain": [
       "array(['Pending', 'Out For Delivery', 'Delivered'], dtype=object)"
      ]
     },
     "execution_count": 61,
     "metadata": {},
     "output_type": "execute_result"
    }
   ],
   "source": [
    "df_total['status'].unique()"
   ]
  },
  {
   "cell_type": "code",
   "execution_count": 62,
   "id": "990f7d22",
   "metadata": {},
   "outputs": [],
   "source": [
    "revenue = df_total[(df_total['status'] == 'Pending') | (df_total['status'] == \"Out For Delivery\")]"
   ]
  },
  {
   "cell_type": "code",
   "execution_count": 63,
   "id": "4e656221",
   "metadata": {},
   "outputs": [
    {
     "data": {
      "text/plain": [
       "815668974"
      ]
     },
     "execution_count": 63,
     "metadata": {},
     "output_type": "execute_result"
    }
   ],
   "source": [
    "sum(revenue['total_price'].values)"
   ]
  },
  {
   "cell_type": "markdown",
   "id": "0ef19b7e",
   "metadata": {},
   "source": [
    "###### 10. (BONUS QUESTION) Which distribution can be used to model the number of orders incoming each hour? If we can somehow model it, which problem for owner of Pizza Store can be solved? "
   ]
  },
  {
   "cell_type": "code",
   "execution_count": 64,
   "id": "ee863932",
   "metadata": {},
   "outputs": [],
   "source": [
    "df_total['hours'] = df_total['time_stamp'].dt.hour"
   ]
  },
  {
   "cell_type": "code",
   "execution_count": 65,
   "id": "d0c97564",
   "metadata": {},
   "outputs": [
    {
     "data": {
      "text/html": [
       "<div>\n",
       "<style scoped>\n",
       "    .dataframe tbody tr th:only-of-type {\n",
       "        vertical-align: middle;\n",
       "    }\n",
       "\n",
       "    .dataframe tbody tr th {\n",
       "        vertical-align: top;\n",
       "    }\n",
       "\n",
       "    .dataframe thead th {\n",
       "        text-align: right;\n",
       "    }\n",
       "</style>\n",
       "<table border=\"1\" class=\"dataframe\">\n",
       "  <thead>\n",
       "    <tr style=\"text-align: right;\">\n",
       "      <th></th>\n",
       "      <th>order_id</th>\n",
       "      <th>time_stamp</th>\n",
       "      <th>status</th>\n",
       "      <th>order_placed_at</th>\n",
       "      <th>Duration</th>\n",
       "      <th>items_ordered</th>\n",
       "      <th>total_price</th>\n",
       "      <th>hours</th>\n",
       "    </tr>\n",
       "  </thead>\n",
       "  <tbody>\n",
       "    <tr>\n",
       "      <th>0</th>\n",
       "      <td>321230114</td>\n",
       "      <td>2020-12-11 00:01:29.000000000</td>\n",
       "      <td>Pending</td>\n",
       "      <td>2020-12-11 00:01:29</td>\n",
       "      <td>0.000000</td>\n",
       "      <td>[p_025', 'p_032', 'p_037]</td>\n",
       "      <td>1035</td>\n",
       "      <td>0</td>\n",
       "    </tr>\n",
       "    <tr>\n",
       "      <th>1</th>\n",
       "      <td>321230114</td>\n",
       "      <td>2020-12-11 00:06:29.000000000</td>\n",
       "      <td>Out For Delivery</td>\n",
       "      <td>2020-12-11 00:01:29</td>\n",
       "      <td>5.000000</td>\n",
       "      <td>[p_025', 'p_032', 'p_037]</td>\n",
       "      <td>1035</td>\n",
       "      <td>0</td>\n",
       "    </tr>\n",
       "    <tr>\n",
       "      <th>2</th>\n",
       "      <td>321230114</td>\n",
       "      <td>2020-12-11 00:19:13.299151076</td>\n",
       "      <td>Delivered</td>\n",
       "      <td>2020-12-11 00:01:29</td>\n",
       "      <td>17.738319</td>\n",
       "      <td>[p_025', 'p_032', 'p_037]</td>\n",
       "      <td>1035</td>\n",
       "      <td>0</td>\n",
       "    </tr>\n",
       "    <tr>\n",
       "      <th>3</th>\n",
       "      <td>321230115</td>\n",
       "      <td>2020-12-11 00:36:02.000000000</td>\n",
       "      <td>Pending</td>\n",
       "      <td>2020-12-11 00:36:02</td>\n",
       "      <td>0.000000</td>\n",
       "      <td>[p_017', 'p_012]</td>\n",
       "      <td>1178</td>\n",
       "      <td>0</td>\n",
       "    </tr>\n",
       "    <tr>\n",
       "      <th>4</th>\n",
       "      <td>321230115</td>\n",
       "      <td>2020-12-11 00:41:02.000000000</td>\n",
       "      <td>Out For Delivery</td>\n",
       "      <td>2020-12-11 00:36:02</td>\n",
       "      <td>5.000000</td>\n",
       "      <td>[p_017', 'p_012]</td>\n",
       "      <td>1178</td>\n",
       "      <td>0</td>\n",
       "    </tr>\n",
       "    <tr>\n",
       "      <th>...</th>\n",
       "      <td>...</td>\n",
       "      <td>...</td>\n",
       "      <td>...</td>\n",
       "      <td>...</td>\n",
       "      <td>...</td>\n",
       "      <td>...</td>\n",
       "      <td>...</td>\n",
       "      <td>...</td>\n",
       "    </tr>\n",
       "    <tr>\n",
       "      <th>1363003</th>\n",
       "      <td>321684449</td>\n",
       "      <td>2024-02-01 00:00:46.000000000</td>\n",
       "      <td>Out For Delivery</td>\n",
       "      <td>2024-01-31 23:55:46</td>\n",
       "      <td>5.000000</td>\n",
       "      <td>[p_022', 'p_037]</td>\n",
       "      <td>436</td>\n",
       "      <td>0</td>\n",
       "    </tr>\n",
       "    <tr>\n",
       "      <th>1363004</th>\n",
       "      <td>321684449</td>\n",
       "      <td>2024-02-01 00:14:56.997433391</td>\n",
       "      <td>Delivered</td>\n",
       "      <td>2024-01-31 23:55:46</td>\n",
       "      <td>19.183291</td>\n",
       "      <td>[p_022', 'p_037]</td>\n",
       "      <td>436</td>\n",
       "      <td>0</td>\n",
       "    </tr>\n",
       "    <tr>\n",
       "      <th>1363005</th>\n",
       "      <td>321684448</td>\n",
       "      <td>2024-01-31 23:58:05.000000000</td>\n",
       "      <td>Pending</td>\n",
       "      <td>2024-01-31 23:58:05</td>\n",
       "      <td>0.000000</td>\n",
       "      <td>[p_007', 'p_003', 'p_037]</td>\n",
       "      <td>791</td>\n",
       "      <td>23</td>\n",
       "    </tr>\n",
       "    <tr>\n",
       "      <th>1363006</th>\n",
       "      <td>321684448</td>\n",
       "      <td>2024-02-01 00:03:05.000000000</td>\n",
       "      <td>Out For Delivery</td>\n",
       "      <td>2024-01-31 23:58:05</td>\n",
       "      <td>5.000000</td>\n",
       "      <td>[p_007', 'p_003', 'p_037]</td>\n",
       "      <td>791</td>\n",
       "      <td>0</td>\n",
       "    </tr>\n",
       "    <tr>\n",
       "      <th>1363007</th>\n",
       "      <td>321684448</td>\n",
       "      <td>2024-02-01 00:17:50.996900711</td>\n",
       "      <td>Delivered</td>\n",
       "      <td>2024-01-31 23:58:05</td>\n",
       "      <td>19.766615</td>\n",
       "      <td>[p_007', 'p_003', 'p_037]</td>\n",
       "      <td>791</td>\n",
       "      <td>0</td>\n",
       "    </tr>\n",
       "  </tbody>\n",
       "</table>\n",
       "<p>1363008 rows × 8 columns</p>\n",
       "</div>"
      ],
      "text/plain": [
       "          order_id                    time_stamp            status  \\\n",
       "0        321230114 2020-12-11 00:01:29.000000000           Pending   \n",
       "1        321230114 2020-12-11 00:06:29.000000000  Out For Delivery   \n",
       "2        321230114 2020-12-11 00:19:13.299151076         Delivered   \n",
       "3        321230115 2020-12-11 00:36:02.000000000           Pending   \n",
       "4        321230115 2020-12-11 00:41:02.000000000  Out For Delivery   \n",
       "...            ...                           ...               ...   \n",
       "1363003  321684449 2024-02-01 00:00:46.000000000  Out For Delivery   \n",
       "1363004  321684449 2024-02-01 00:14:56.997433391         Delivered   \n",
       "1363005  321684448 2024-01-31 23:58:05.000000000           Pending   \n",
       "1363006  321684448 2024-02-01 00:03:05.000000000  Out For Delivery   \n",
       "1363007  321684448 2024-02-01 00:17:50.996900711         Delivered   \n",
       "\n",
       "            order_placed_at   Duration              items_ordered  \\\n",
       "0       2020-12-11 00:01:29   0.000000  [p_025', 'p_032', 'p_037]   \n",
       "1       2020-12-11 00:01:29   5.000000  [p_025', 'p_032', 'p_037]   \n",
       "2       2020-12-11 00:01:29  17.738319  [p_025', 'p_032', 'p_037]   \n",
       "3       2020-12-11 00:36:02   0.000000           [p_017', 'p_012]   \n",
       "4       2020-12-11 00:36:02   5.000000           [p_017', 'p_012]   \n",
       "...                     ...        ...                        ...   \n",
       "1363003 2024-01-31 23:55:46   5.000000           [p_022', 'p_037]   \n",
       "1363004 2024-01-31 23:55:46  19.183291           [p_022', 'p_037]   \n",
       "1363005 2024-01-31 23:58:05   0.000000  [p_007', 'p_003', 'p_037]   \n",
       "1363006 2024-01-31 23:58:05   5.000000  [p_007', 'p_003', 'p_037]   \n",
       "1363007 2024-01-31 23:58:05  19.766615  [p_007', 'p_003', 'p_037]   \n",
       "\n",
       "         total_price  hours  \n",
       "0               1035      0  \n",
       "1               1035      0  \n",
       "2               1035      0  \n",
       "3               1178      0  \n",
       "4               1178      0  \n",
       "...              ...    ...  \n",
       "1363003          436      0  \n",
       "1363004          436      0  \n",
       "1363005          791     23  \n",
       "1363006          791      0  \n",
       "1363007          791      0  \n",
       "\n",
       "[1363008 rows x 8 columns]"
      ]
     },
     "execution_count": 65,
     "metadata": {},
     "output_type": "execute_result"
    }
   ],
   "source": [
    "df_total"
   ]
  },
  {
   "cell_type": "code",
   "execution_count": 66,
   "id": "51706188",
   "metadata": {},
   "outputs": [],
   "source": [
    "orders_count = df_total.groupby('hours').size()"
   ]
  },
  {
   "cell_type": "code",
   "execution_count": 67,
   "id": "0e79dab2",
   "metadata": {},
   "outputs": [],
   "source": [
    "mean_orders_per_hour = orders_count.mean()"
   ]
  },
  {
   "cell_type": "code",
   "execution_count": 68,
   "id": "fcc2cde3",
   "metadata": {},
   "outputs": [
    {
     "name": "stdout",
     "output_type": "stream",
     "text": [
      "Mean number of orders per hour: 56792.0\n"
     ]
    }
   ],
   "source": [
    "print(f'Mean number of orders per hour: {mean_orders_per_hour}')"
   ]
  },
  {
   "cell_type": "code",
   "execution_count": 69,
   "id": "4f012cca",
   "metadata": {},
   "outputs": [],
   "source": [
    "import matplotlib.pyplot as plt\n",
    "import numpy as np\n",
    "from scipy.stats import poisson"
   ]
  },
  {
   "cell_type": "code",
   "execution_count": 70,
   "id": "336b990c",
   "metadata": {},
   "outputs": [
    {
     "data": {
      "text/plain": [
       "<BarContainer object of 24 artists>"
      ]
     },
     "execution_count": 70,
     "metadata": {},
     "output_type": "execute_result"
    },
    {
     "data": {
      "image/png": "[encoded data removed]",
      "text/plain": [
       "<Figure size 640x480 with 1 Axes>"
      ]
     },
     "metadata": {},
     "output_type": "display_data"
    }
   ],
   "source": [
    "plt.bar(orders_count.index,orders_count.values,label = \"actual counts\",alpha = 0.7)"
   ]
  },
  {
   "cell_type": "code",
   "execution_count": 71,
   "id": "e8108b08",
   "metadata": {},
   "outputs": [],
   "source": [
    "x = np.arange(0,orders_count.max(),+1)\n",
    "poi = poisson.pmf(x,mean_orders_per_hour)"
   ]
  },
  {
   "cell_type": "code",
   "execution_count": 72,
   "id": "6b2bd58e",
   "metadata": {},
   "outputs": [
    {
     "data": {
      "image/png": "[encoded data removed]",
      "text/plain": [
       "<Figure size 640x480 with 1 Axes>"
      ]
     },
     "metadata": {},
     "output_type": "display_data"
    },
    {
     "name": "stdout",
     "output_type": "stream",
     "text": [
      "Poisson distribution is estimated to be: 56792.00\n"
     ]
    }
   ],
   "source": [
    "plt.plot(x,poi*len(orders_count),lw=2,label = \"poisson destribution\")\n",
    "\n",
    "plt.xlabel('Hour of the Day')\n",
    "plt.ylabel('Number of Orders')\n",
    "plt.title('Number of Orders per Hour and Fitted Poisson Distribution')\n",
    "plt.legend()\n",
    "plt.grid(True)\n",
    "plt.show()\n",
    "\n",
    "\n",
    "print(f\"Poisson distribution is estimated to be: {mean_orders_per_hour:.2f}\")"
   ]
  },
  {
   "cell_type": "markdown",
   "id": "bbad04e7",
   "metadata": {},
   "source": [
    "* Poisson distribution is estimated to be: 56792.00.Because Poisson distribution based on the averate rate of time and space .so,That's why we used poisson distribution"
   ]
  },
  {
   "cell_type": "code",
   "execution_count": null,
   "id": "5625c233",
   "metadata": {},
   "outputs": [],
   "source": []
  }
 ],
 "metadata": {
  "kernelspec": {
   "display_name": "Python 3 (ipykernel)",
   "language": "python",
   "name": "python3"
  },
  "language_info": {
   "codemirror_mode": {
    "name": "ipython",
    "version": 3
   },
   "file_extension": ".py",
   "mimetype": "text/x-python",
   "name": "python",
   "nbconvert_exporter": "python",
   "pygments_lexer": "ipython3",
   "version": "3.11.5"
  }
 },
 "nbformat": 4,
 "nbformat_minor": 5
}
